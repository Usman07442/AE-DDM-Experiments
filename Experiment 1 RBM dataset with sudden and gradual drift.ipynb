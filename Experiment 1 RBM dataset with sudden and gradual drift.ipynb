{
 "cells": [
  {
   "cell_type": "markdown",
   "id": "bed93ebc",
   "metadata": {},
   "source": [
    "\n",
    "# Experiment 1 : Concept Drift Detection Using Autoencoders in Data Streams Processing ( with RBM Dataset)"
   ]
  },
  {
   "cell_type": "code",
   "execution_count": 214,
   "id": "8efad16b",
   "metadata": {},
   "outputs": [],
   "source": [
    "import pandas as pd\n",
    "import numpy as np\n",
    "from matplotlib import pyplot as plt\n",
    "import seaborn as sns\n",
    "\n",
    "\n",
    "from sklearn.preprocessing import LabelEncoder\n",
    "from sklearn.preprocessing import StandardScaler\n",
    "\n",
    "import tensorflow\n",
    "import tensorflow.keras.backend as K\n",
    "import tensorflow.keras.layers as layers\n",
    "\n",
    "import scipy.stats as stats\n",
    "import math\n",
    "\n",
    "from numpy.random import seed\n",
    "from numpy.random import randn\n",
    "from scipy.stats import shapiro\n",
    "from scipy.stats import normaltest\n",
    "from scipy.stats import anderson\n",
    "\n",
    "\n",
    "import warnings\n",
    "warnings.filterwarnings(\"ignore\")"
   ]
  },
  {
   "cell_type": "markdown",
   "id": "8e1a1341",
   "metadata": {},
   "source": [
    "##  S1 dataset generated with RBM with a static probability distribution"
   ]
  },
  {
   "cell_type": "code",
   "execution_count": 215,
   "id": "4c0ea405",
   "metadata": {},
   "outputs": [],
   "source": [
    "s1=pd.read_csv(\"energy_dataset1.txt\",header=None , delimiter=' ')"
   ]
  },
  {
   "cell_type": "code",
   "execution_count": 216,
   "id": "0647e2fb",
   "metadata": {},
   "outputs": [
    {
     "data": {
      "text/html": [
       "<div>\n",
       "<style scoped>\n",
       "    .dataframe tbody tr th:only-of-type {\n",
       "        vertical-align: middle;\n",
       "    }\n",
       "\n",
       "    .dataframe tbody tr th {\n",
       "        vertical-align: top;\n",
       "    }\n",
       "\n",
       "    .dataframe thead th {\n",
       "        text-align: right;\n",
       "    }\n",
       "</style>\n",
       "<table border=\"1\" class=\"dataframe\">\n",
       "  <thead>\n",
       "    <tr style=\"text-align: right;\">\n",
       "      <th></th>\n",
       "      <th>0</th>\n",
       "      <th>1</th>\n",
       "      <th>2</th>\n",
       "      <th>3</th>\n",
       "      <th>4</th>\n",
       "      <th>5</th>\n",
       "      <th>6</th>\n",
       "      <th>7</th>\n",
       "      <th>8</th>\n",
       "      <th>9</th>\n",
       "      <th>10</th>\n",
       "      <th>11</th>\n",
       "      <th>12</th>\n",
       "      <th>13</th>\n",
       "      <th>14</th>\n",
       "      <th>15</th>\n",
       "      <th>16</th>\n",
       "      <th>17</th>\n",
       "      <th>18</th>\n",
       "      <th>19</th>\n",
       "    </tr>\n",
       "  </thead>\n",
       "  <tbody>\n",
       "    <tr>\n",
       "      <th>0</th>\n",
       "      <td>0</td>\n",
       "      <td>0</td>\n",
       "      <td>0</td>\n",
       "      <td>1</td>\n",
       "      <td>1</td>\n",
       "      <td>1</td>\n",
       "      <td>0</td>\n",
       "      <td>0</td>\n",
       "      <td>0</td>\n",
       "      <td>1</td>\n",
       "      <td>0</td>\n",
       "      <td>1</td>\n",
       "      <td>1</td>\n",
       "      <td>1</td>\n",
       "      <td>1</td>\n",
       "      <td>1</td>\n",
       "      <td>1</td>\n",
       "      <td>1</td>\n",
       "      <td>0</td>\n",
       "      <td>1</td>\n",
       "    </tr>\n",
       "    <tr>\n",
       "      <th>1</th>\n",
       "      <td>0</td>\n",
       "      <td>1</td>\n",
       "      <td>1</td>\n",
       "      <td>1</td>\n",
       "      <td>0</td>\n",
       "      <td>1</td>\n",
       "      <td>0</td>\n",
       "      <td>1</td>\n",
       "      <td>1</td>\n",
       "      <td>1</td>\n",
       "      <td>1</td>\n",
       "      <td>1</td>\n",
       "      <td>1</td>\n",
       "      <td>1</td>\n",
       "      <td>1</td>\n",
       "      <td>1</td>\n",
       "      <td>0</td>\n",
       "      <td>0</td>\n",
       "      <td>1</td>\n",
       "      <td>1</td>\n",
       "    </tr>\n",
       "    <tr>\n",
       "      <th>2</th>\n",
       "      <td>1</td>\n",
       "      <td>0</td>\n",
       "      <td>0</td>\n",
       "      <td>1</td>\n",
       "      <td>1</td>\n",
       "      <td>0</td>\n",
       "      <td>1</td>\n",
       "      <td>1</td>\n",
       "      <td>1</td>\n",
       "      <td>1</td>\n",
       "      <td>0</td>\n",
       "      <td>0</td>\n",
       "      <td>1</td>\n",
       "      <td>1</td>\n",
       "      <td>0</td>\n",
       "      <td>0</td>\n",
       "      <td>0</td>\n",
       "      <td>0</td>\n",
       "      <td>1</td>\n",
       "      <td>1</td>\n",
       "    </tr>\n",
       "    <tr>\n",
       "      <th>3</th>\n",
       "      <td>1</td>\n",
       "      <td>0</td>\n",
       "      <td>0</td>\n",
       "      <td>0</td>\n",
       "      <td>1</td>\n",
       "      <td>1</td>\n",
       "      <td>1</td>\n",
       "      <td>1</td>\n",
       "      <td>0</td>\n",
       "      <td>1</td>\n",
       "      <td>0</td>\n",
       "      <td>1</td>\n",
       "      <td>1</td>\n",
       "      <td>0</td>\n",
       "      <td>1</td>\n",
       "      <td>0</td>\n",
       "      <td>1</td>\n",
       "      <td>0</td>\n",
       "      <td>1</td>\n",
       "      <td>0</td>\n",
       "    </tr>\n",
       "    <tr>\n",
       "      <th>4</th>\n",
       "      <td>0</td>\n",
       "      <td>1</td>\n",
       "      <td>1</td>\n",
       "      <td>0</td>\n",
       "      <td>0</td>\n",
       "      <td>1</td>\n",
       "      <td>1</td>\n",
       "      <td>1</td>\n",
       "      <td>0</td>\n",
       "      <td>1</td>\n",
       "      <td>1</td>\n",
       "      <td>0</td>\n",
       "      <td>1</td>\n",
       "      <td>1</td>\n",
       "      <td>1</td>\n",
       "      <td>1</td>\n",
       "      <td>0</td>\n",
       "      <td>0</td>\n",
       "      <td>1</td>\n",
       "      <td>0</td>\n",
       "    </tr>\n",
       "  </tbody>\n",
       "</table>\n",
       "</div>"
      ],
      "text/plain": [
       "   0   1   2   3   4   5   6   7   8   9   10  11  12  13  14  15  16  17  18  \\\n",
       "0   0   0   0   1   1   1   0   0   0   1   0   1   1   1   1   1   1   1   0   \n",
       "1   0   1   1   1   0   1   0   1   1   1   1   1   1   1   1   1   0   0   1   \n",
       "2   1   0   0   1   1   0   1   1   1   1   0   0   1   1   0   0   0   0   1   \n",
       "3   1   0   0   0   1   1   1   1   0   1   0   1   1   0   1   0   1   0   1   \n",
       "4   0   1   1   0   0   1   1   1   0   1   1   0   1   1   1   1   0   0   1   \n",
       "\n",
       "   19  \n",
       "0   1  \n",
       "1   1  \n",
       "2   1  \n",
       "3   0  \n",
       "4   0  "
      ]
     },
     "execution_count": 216,
     "metadata": {},
     "output_type": "execute_result"
    }
   ],
   "source": [
    "s1.head()"
   ]
  },
  {
   "cell_type": "code",
   "execution_count": 217,
   "id": "63434b4f",
   "metadata": {},
   "outputs": [
    {
     "data": {
      "text/plain": [
       "(2000000, 20)"
      ]
     },
     "execution_count": 217,
     "metadata": {},
     "output_type": "execute_result"
    }
   ],
   "source": [
    "s1.shape"
   ]
  },
  {
   "cell_type": "markdown",
   "id": "62d568db",
   "metadata": {},
   "source": [
    "## S2 Datset generated with RBM with a static Probability Distribution"
   ]
  },
  {
   "cell_type": "code",
   "execution_count": 218,
   "id": "912f7c95",
   "metadata": {},
   "outputs": [],
   "source": [
    "s2=pd.read_csv(\"energy_dataset2.txt\",header=None , delimiter=' ')"
   ]
  },
  {
   "cell_type": "code",
   "execution_count": 219,
   "id": "2f7fb52d",
   "metadata": {},
   "outputs": [
    {
     "data": {
      "text/html": [
       "<div>\n",
       "<style scoped>\n",
       "    .dataframe tbody tr th:only-of-type {\n",
       "        vertical-align: middle;\n",
       "    }\n",
       "\n",
       "    .dataframe tbody tr th {\n",
       "        vertical-align: top;\n",
       "    }\n",
       "\n",
       "    .dataframe thead th {\n",
       "        text-align: right;\n",
       "    }\n",
       "</style>\n",
       "<table border=\"1\" class=\"dataframe\">\n",
       "  <thead>\n",
       "    <tr style=\"text-align: right;\">\n",
       "      <th></th>\n",
       "      <th>0</th>\n",
       "      <th>1</th>\n",
       "      <th>2</th>\n",
       "      <th>3</th>\n",
       "      <th>4</th>\n",
       "      <th>5</th>\n",
       "      <th>6</th>\n",
       "      <th>7</th>\n",
       "      <th>8</th>\n",
       "      <th>9</th>\n",
       "      <th>10</th>\n",
       "      <th>11</th>\n",
       "      <th>12</th>\n",
       "      <th>13</th>\n",
       "      <th>14</th>\n",
       "      <th>15</th>\n",
       "      <th>16</th>\n",
       "      <th>17</th>\n",
       "      <th>18</th>\n",
       "      <th>19</th>\n",
       "    </tr>\n",
       "  </thead>\n",
       "  <tbody>\n",
       "    <tr>\n",
       "      <th>0</th>\n",
       "      <td>1</td>\n",
       "      <td>1</td>\n",
       "      <td>1</td>\n",
       "      <td>1</td>\n",
       "      <td>1</td>\n",
       "      <td>0</td>\n",
       "      <td>0</td>\n",
       "      <td>0</td>\n",
       "      <td>1</td>\n",
       "      <td>0</td>\n",
       "      <td>1</td>\n",
       "      <td>1</td>\n",
       "      <td>1</td>\n",
       "      <td>0</td>\n",
       "      <td>1</td>\n",
       "      <td>1</td>\n",
       "      <td>0</td>\n",
       "      <td>0</td>\n",
       "      <td>1</td>\n",
       "      <td>1</td>\n",
       "    </tr>\n",
       "    <tr>\n",
       "      <th>1</th>\n",
       "      <td>1</td>\n",
       "      <td>1</td>\n",
       "      <td>0</td>\n",
       "      <td>0</td>\n",
       "      <td>1</td>\n",
       "      <td>1</td>\n",
       "      <td>1</td>\n",
       "      <td>1</td>\n",
       "      <td>1</td>\n",
       "      <td>1</td>\n",
       "      <td>1</td>\n",
       "      <td>1</td>\n",
       "      <td>1</td>\n",
       "      <td>0</td>\n",
       "      <td>1</td>\n",
       "      <td>0</td>\n",
       "      <td>0</td>\n",
       "      <td>1</td>\n",
       "      <td>1</td>\n",
       "      <td>1</td>\n",
       "    </tr>\n",
       "    <tr>\n",
       "      <th>2</th>\n",
       "      <td>1</td>\n",
       "      <td>1</td>\n",
       "      <td>0</td>\n",
       "      <td>1</td>\n",
       "      <td>0</td>\n",
       "      <td>0</td>\n",
       "      <td>0</td>\n",
       "      <td>0</td>\n",
       "      <td>1</td>\n",
       "      <td>0</td>\n",
       "      <td>1</td>\n",
       "      <td>1</td>\n",
       "      <td>1</td>\n",
       "      <td>0</td>\n",
       "      <td>1</td>\n",
       "      <td>1</td>\n",
       "      <td>1</td>\n",
       "      <td>1</td>\n",
       "      <td>1</td>\n",
       "      <td>0</td>\n",
       "    </tr>\n",
       "    <tr>\n",
       "      <th>3</th>\n",
       "      <td>1</td>\n",
       "      <td>1</td>\n",
       "      <td>1</td>\n",
       "      <td>1</td>\n",
       "      <td>1</td>\n",
       "      <td>0</td>\n",
       "      <td>0</td>\n",
       "      <td>0</td>\n",
       "      <td>1</td>\n",
       "      <td>1</td>\n",
       "      <td>1</td>\n",
       "      <td>1</td>\n",
       "      <td>0</td>\n",
       "      <td>1</td>\n",
       "      <td>1</td>\n",
       "      <td>0</td>\n",
       "      <td>0</td>\n",
       "      <td>1</td>\n",
       "      <td>1</td>\n",
       "      <td>1</td>\n",
       "    </tr>\n",
       "    <tr>\n",
       "      <th>4</th>\n",
       "      <td>1</td>\n",
       "      <td>1</td>\n",
       "      <td>1</td>\n",
       "      <td>0</td>\n",
       "      <td>1</td>\n",
       "      <td>1</td>\n",
       "      <td>1</td>\n",
       "      <td>0</td>\n",
       "      <td>0</td>\n",
       "      <td>1</td>\n",
       "      <td>1</td>\n",
       "      <td>1</td>\n",
       "      <td>1</td>\n",
       "      <td>1</td>\n",
       "      <td>1</td>\n",
       "      <td>0</td>\n",
       "      <td>0</td>\n",
       "      <td>1</td>\n",
       "      <td>1</td>\n",
       "      <td>1</td>\n",
       "    </tr>\n",
       "  </tbody>\n",
       "</table>\n",
       "</div>"
      ],
      "text/plain": [
       "   0   1   2   3   4   5   6   7   8   9   10  11  12  13  14  15  16  17  18  \\\n",
       "0   1   1   1   1   1   0   0   0   1   0   1   1   1   0   1   1   0   0   1   \n",
       "1   1   1   0   0   1   1   1   1   1   1   1   1   1   0   1   0   0   1   1   \n",
       "2   1   1   0   1   0   0   0   0   1   0   1   1   1   0   1   1   1   1   1   \n",
       "3   1   1   1   1   1   0   0   0   1   1   1   1   0   1   1   0   0   1   1   \n",
       "4   1   1   1   0   1   1   1   0   0   1   1   1   1   1   1   0   0   1   1   \n",
       "\n",
       "   19  \n",
       "0   1  \n",
       "1   1  \n",
       "2   0  \n",
       "3   1  \n",
       "4   1  "
      ]
     },
     "execution_count": 219,
     "metadata": {},
     "output_type": "execute_result"
    }
   ],
   "source": [
    "s2.head()"
   ]
  },
  {
   "cell_type": "code",
   "execution_count": 220,
   "id": "728c6a1c",
   "metadata": {},
   "outputs": [
    {
     "data": {
      "text/plain": [
       "(2000000, 20)"
      ]
     },
     "execution_count": 220,
     "metadata": {},
     "output_type": "execute_result"
    }
   ],
   "source": [
    "s2.shape"
   ]
  },
  {
   "cell_type": "markdown",
   "id": "b00dd521",
   "metadata": {},
   "source": [
    "## Sudden Drift Dataset : First 500000 records have been taken from S1 and Rest from S2"
   ]
  },
  {
   "cell_type": "code",
   "execution_count": 221,
   "id": "41a72337",
   "metadata": {},
   "outputs": [],
   "source": [
    "# Data has been generated by the researcher of the referenced paper and is avialble to upload directly\n",
    "Sd=pd.read_csv(\"suddendrift_energy.txt\",header=None , delimiter=' ')"
   ]
  },
  {
   "cell_type": "code",
   "execution_count": 222,
   "id": "7254d91b",
   "metadata": {},
   "outputs": [
    {
     "data": {
      "text/html": [
       "<div>\n",
       "<style scoped>\n",
       "    .dataframe tbody tr th:only-of-type {\n",
       "        vertical-align: middle;\n",
       "    }\n",
       "\n",
       "    .dataframe tbody tr th {\n",
       "        vertical-align: top;\n",
       "    }\n",
       "\n",
       "    .dataframe thead th {\n",
       "        text-align: right;\n",
       "    }\n",
       "</style>\n",
       "<table border=\"1\" class=\"dataframe\">\n",
       "  <thead>\n",
       "    <tr style=\"text-align: right;\">\n",
       "      <th></th>\n",
       "      <th>0</th>\n",
       "      <th>1</th>\n",
       "      <th>2</th>\n",
       "      <th>3</th>\n",
       "      <th>4</th>\n",
       "      <th>5</th>\n",
       "      <th>6</th>\n",
       "      <th>7</th>\n",
       "      <th>8</th>\n",
       "      <th>9</th>\n",
       "      <th>10</th>\n",
       "      <th>11</th>\n",
       "      <th>12</th>\n",
       "      <th>13</th>\n",
       "      <th>14</th>\n",
       "      <th>15</th>\n",
       "      <th>16</th>\n",
       "      <th>17</th>\n",
       "      <th>18</th>\n",
       "      <th>19</th>\n",
       "    </tr>\n",
       "  </thead>\n",
       "  <tbody>\n",
       "    <tr>\n",
       "      <th>0</th>\n",
       "      <td>0</td>\n",
       "      <td>0</td>\n",
       "      <td>0</td>\n",
       "      <td>1</td>\n",
       "      <td>1</td>\n",
       "      <td>1</td>\n",
       "      <td>0</td>\n",
       "      <td>0</td>\n",
       "      <td>0</td>\n",
       "      <td>1</td>\n",
       "      <td>0</td>\n",
       "      <td>1</td>\n",
       "      <td>1</td>\n",
       "      <td>1</td>\n",
       "      <td>1</td>\n",
       "      <td>1</td>\n",
       "      <td>1</td>\n",
       "      <td>1</td>\n",
       "      <td>0</td>\n",
       "      <td>1</td>\n",
       "    </tr>\n",
       "    <tr>\n",
       "      <th>1</th>\n",
       "      <td>0</td>\n",
       "      <td>1</td>\n",
       "      <td>1</td>\n",
       "      <td>1</td>\n",
       "      <td>0</td>\n",
       "      <td>1</td>\n",
       "      <td>0</td>\n",
       "      <td>1</td>\n",
       "      <td>1</td>\n",
       "      <td>1</td>\n",
       "      <td>1</td>\n",
       "      <td>1</td>\n",
       "      <td>1</td>\n",
       "      <td>1</td>\n",
       "      <td>1</td>\n",
       "      <td>1</td>\n",
       "      <td>0</td>\n",
       "      <td>0</td>\n",
       "      <td>1</td>\n",
       "      <td>1</td>\n",
       "    </tr>\n",
       "    <tr>\n",
       "      <th>2</th>\n",
       "      <td>1</td>\n",
       "      <td>0</td>\n",
       "      <td>0</td>\n",
       "      <td>1</td>\n",
       "      <td>1</td>\n",
       "      <td>0</td>\n",
       "      <td>1</td>\n",
       "      <td>1</td>\n",
       "      <td>1</td>\n",
       "      <td>1</td>\n",
       "      <td>0</td>\n",
       "      <td>0</td>\n",
       "      <td>1</td>\n",
       "      <td>1</td>\n",
       "      <td>0</td>\n",
       "      <td>0</td>\n",
       "      <td>0</td>\n",
       "      <td>0</td>\n",
       "      <td>1</td>\n",
       "      <td>1</td>\n",
       "    </tr>\n",
       "    <tr>\n",
       "      <th>3</th>\n",
       "      <td>1</td>\n",
       "      <td>0</td>\n",
       "      <td>0</td>\n",
       "      <td>0</td>\n",
       "      <td>1</td>\n",
       "      <td>1</td>\n",
       "      <td>1</td>\n",
       "      <td>1</td>\n",
       "      <td>0</td>\n",
       "      <td>1</td>\n",
       "      <td>0</td>\n",
       "      <td>1</td>\n",
       "      <td>1</td>\n",
       "      <td>0</td>\n",
       "      <td>1</td>\n",
       "      <td>0</td>\n",
       "      <td>1</td>\n",
       "      <td>0</td>\n",
       "      <td>1</td>\n",
       "      <td>0</td>\n",
       "    </tr>\n",
       "    <tr>\n",
       "      <th>4</th>\n",
       "      <td>0</td>\n",
       "      <td>1</td>\n",
       "      <td>1</td>\n",
       "      <td>0</td>\n",
       "      <td>0</td>\n",
       "      <td>1</td>\n",
       "      <td>1</td>\n",
       "      <td>1</td>\n",
       "      <td>0</td>\n",
       "      <td>1</td>\n",
       "      <td>1</td>\n",
       "      <td>0</td>\n",
       "      <td>1</td>\n",
       "      <td>1</td>\n",
       "      <td>1</td>\n",
       "      <td>1</td>\n",
       "      <td>0</td>\n",
       "      <td>0</td>\n",
       "      <td>1</td>\n",
       "      <td>0</td>\n",
       "    </tr>\n",
       "  </tbody>\n",
       "</table>\n",
       "</div>"
      ],
      "text/plain": [
       "   0   1   2   3   4   5   6   7   8   9   10  11  12  13  14  15  16  17  18  \\\n",
       "0   0   0   0   1   1   1   0   0   0   1   0   1   1   1   1   1   1   1   0   \n",
       "1   0   1   1   1   0   1   0   1   1   1   1   1   1   1   1   1   0   0   1   \n",
       "2   1   0   0   1   1   0   1   1   1   1   0   0   1   1   0   0   0   0   1   \n",
       "3   1   0   0   0   1   1   1   1   0   1   0   1   1   0   1   0   1   0   1   \n",
       "4   0   1   1   0   0   1   1   1   0   1   1   0   1   1   1   1   0   0   1   \n",
       "\n",
       "   19  \n",
       "0   1  \n",
       "1   1  \n",
       "2   1  \n",
       "3   0  \n",
       "4   0  "
      ]
     },
     "execution_count": 222,
     "metadata": {},
     "output_type": "execute_result"
    }
   ],
   "source": [
    "Sd.head()"
   ]
  },
  {
   "cell_type": "code",
   "execution_count": 223,
   "id": "6aa77e3a",
   "metadata": {},
   "outputs": [
    {
     "data": {
      "text/plain": [
       "(800000, 20)"
      ]
     },
     "execution_count": 223,
     "metadata": {},
     "output_type": "execute_result"
    }
   ],
   "source": [
    "Sd.shape"
   ]
  },
  {
   "cell_type": "markdown",
   "id": "650584bd",
   "metadata": {},
   "source": [
    "###  Gradual Drift Dataset : First 500000 records taken from S1 , [500000:600000] with a probability (600000-i)/100000 from S1 and with a probability (i-500000)/100000 from S2 , Rest taken from S2"
   ]
  },
  {
   "cell_type": "code",
   "execution_count": 224,
   "id": "f5fb6a26",
   "metadata": {},
   "outputs": [],
   "source": [
    "# Data has been generated by the researcher of the referenced paper and is avialble to upload directly\n",
    "Gd=pd.read_csv(\"gradualdrift_energy.txt\",header=None , delimiter=' ')"
   ]
  },
  {
   "cell_type": "code",
   "execution_count": 225,
   "id": "4f77366b",
   "metadata": {},
   "outputs": [
    {
     "data": {
      "text/html": [
       "<div>\n",
       "<style scoped>\n",
       "    .dataframe tbody tr th:only-of-type {\n",
       "        vertical-align: middle;\n",
       "    }\n",
       "\n",
       "    .dataframe tbody tr th {\n",
       "        vertical-align: top;\n",
       "    }\n",
       "\n",
       "    .dataframe thead th {\n",
       "        text-align: right;\n",
       "    }\n",
       "</style>\n",
       "<table border=\"1\" class=\"dataframe\">\n",
       "  <thead>\n",
       "    <tr style=\"text-align: right;\">\n",
       "      <th></th>\n",
       "      <th>0</th>\n",
       "      <th>1</th>\n",
       "      <th>2</th>\n",
       "      <th>3</th>\n",
       "      <th>4</th>\n",
       "      <th>5</th>\n",
       "      <th>6</th>\n",
       "      <th>7</th>\n",
       "      <th>8</th>\n",
       "      <th>9</th>\n",
       "      <th>10</th>\n",
       "      <th>11</th>\n",
       "      <th>12</th>\n",
       "      <th>13</th>\n",
       "      <th>14</th>\n",
       "      <th>15</th>\n",
       "      <th>16</th>\n",
       "      <th>17</th>\n",
       "      <th>18</th>\n",
       "      <th>19</th>\n",
       "    </tr>\n",
       "  </thead>\n",
       "  <tbody>\n",
       "    <tr>\n",
       "      <th>0</th>\n",
       "      <td>0</td>\n",
       "      <td>0</td>\n",
       "      <td>0</td>\n",
       "      <td>1</td>\n",
       "      <td>1</td>\n",
       "      <td>1</td>\n",
       "      <td>0</td>\n",
       "      <td>0</td>\n",
       "      <td>0</td>\n",
       "      <td>1</td>\n",
       "      <td>0</td>\n",
       "      <td>1</td>\n",
       "      <td>1</td>\n",
       "      <td>1</td>\n",
       "      <td>1</td>\n",
       "      <td>1</td>\n",
       "      <td>1</td>\n",
       "      <td>1</td>\n",
       "      <td>0</td>\n",
       "      <td>1</td>\n",
       "    </tr>\n",
       "    <tr>\n",
       "      <th>1</th>\n",
       "      <td>0</td>\n",
       "      <td>1</td>\n",
       "      <td>1</td>\n",
       "      <td>1</td>\n",
       "      <td>0</td>\n",
       "      <td>1</td>\n",
       "      <td>0</td>\n",
       "      <td>1</td>\n",
       "      <td>1</td>\n",
       "      <td>1</td>\n",
       "      <td>1</td>\n",
       "      <td>1</td>\n",
       "      <td>1</td>\n",
       "      <td>1</td>\n",
       "      <td>1</td>\n",
       "      <td>1</td>\n",
       "      <td>0</td>\n",
       "      <td>0</td>\n",
       "      <td>1</td>\n",
       "      <td>1</td>\n",
       "    </tr>\n",
       "    <tr>\n",
       "      <th>2</th>\n",
       "      <td>1</td>\n",
       "      <td>0</td>\n",
       "      <td>0</td>\n",
       "      <td>1</td>\n",
       "      <td>1</td>\n",
       "      <td>0</td>\n",
       "      <td>1</td>\n",
       "      <td>1</td>\n",
       "      <td>1</td>\n",
       "      <td>1</td>\n",
       "      <td>0</td>\n",
       "      <td>0</td>\n",
       "      <td>1</td>\n",
       "      <td>1</td>\n",
       "      <td>0</td>\n",
       "      <td>0</td>\n",
       "      <td>0</td>\n",
       "      <td>0</td>\n",
       "      <td>1</td>\n",
       "      <td>1</td>\n",
       "    </tr>\n",
       "    <tr>\n",
       "      <th>3</th>\n",
       "      <td>1</td>\n",
       "      <td>0</td>\n",
       "      <td>0</td>\n",
       "      <td>0</td>\n",
       "      <td>1</td>\n",
       "      <td>1</td>\n",
       "      <td>1</td>\n",
       "      <td>1</td>\n",
       "      <td>0</td>\n",
       "      <td>1</td>\n",
       "      <td>0</td>\n",
       "      <td>1</td>\n",
       "      <td>1</td>\n",
       "      <td>0</td>\n",
       "      <td>1</td>\n",
       "      <td>0</td>\n",
       "      <td>1</td>\n",
       "      <td>0</td>\n",
       "      <td>1</td>\n",
       "      <td>0</td>\n",
       "    </tr>\n",
       "    <tr>\n",
       "      <th>4</th>\n",
       "      <td>0</td>\n",
       "      <td>1</td>\n",
       "      <td>1</td>\n",
       "      <td>0</td>\n",
       "      <td>0</td>\n",
       "      <td>1</td>\n",
       "      <td>1</td>\n",
       "      <td>1</td>\n",
       "      <td>0</td>\n",
       "      <td>1</td>\n",
       "      <td>1</td>\n",
       "      <td>0</td>\n",
       "      <td>1</td>\n",
       "      <td>1</td>\n",
       "      <td>1</td>\n",
       "      <td>1</td>\n",
       "      <td>0</td>\n",
       "      <td>0</td>\n",
       "      <td>1</td>\n",
       "      <td>0</td>\n",
       "    </tr>\n",
       "  </tbody>\n",
       "</table>\n",
       "</div>"
      ],
      "text/plain": [
       "   0   1   2   3   4   5   6   7   8   9   10  11  12  13  14  15  16  17  18  \\\n",
       "0   0   0   0   1   1   1   0   0   0   1   0   1   1   1   1   1   1   1   0   \n",
       "1   0   1   1   1   0   1   0   1   1   1   1   1   1   1   1   1   0   0   1   \n",
       "2   1   0   0   1   1   0   1   1   1   1   0   0   1   1   0   0   0   0   1   \n",
       "3   1   0   0   0   1   1   1   1   0   1   0   1   1   0   1   0   1   0   1   \n",
       "4   0   1   1   0   0   1   1   1   0   1   1   0   1   1   1   1   0   0   1   \n",
       "\n",
       "   19  \n",
       "0   1  \n",
       "1   1  \n",
       "2   1  \n",
       "3   0  \n",
       "4   0  "
      ]
     },
     "execution_count": 225,
     "metadata": {},
     "output_type": "execute_result"
    }
   ],
   "source": [
    "Gd.head()"
   ]
  },
  {
   "cell_type": "code",
   "execution_count": 226,
   "id": "dc42f043",
   "metadata": {},
   "outputs": [
    {
     "data": {
      "text/plain": [
       "(800000, 20)"
      ]
     },
     "execution_count": 226,
     "metadata": {},
     "output_type": "execute_result"
    }
   ],
   "source": [
    "Gd.shape"
   ]
  },
  {
   "cell_type": "markdown",
   "id": "ec13c28f",
   "metadata": {},
   "source": [
    "# Working with Sudden Drift Data "
   ]
  },
  {
   "cell_type": "code",
   "execution_count": 227,
   "id": "ab6e4993",
   "metadata": {},
   "outputs": [
    {
     "data": {
      "text/html": [
       "<div>\n",
       "<style scoped>\n",
       "    .dataframe tbody tr th:only-of-type {\n",
       "        vertical-align: middle;\n",
       "    }\n",
       "\n",
       "    .dataframe tbody tr th {\n",
       "        vertical-align: top;\n",
       "    }\n",
       "\n",
       "    .dataframe thead th {\n",
       "        text-align: right;\n",
       "    }\n",
       "</style>\n",
       "<table border=\"1\" class=\"dataframe\">\n",
       "  <thead>\n",
       "    <tr style=\"text-align: right;\">\n",
       "      <th></th>\n",
       "      <th>0</th>\n",
       "      <th>1</th>\n",
       "      <th>2</th>\n",
       "      <th>3</th>\n",
       "      <th>4</th>\n",
       "      <th>5</th>\n",
       "      <th>6</th>\n",
       "      <th>7</th>\n",
       "      <th>8</th>\n",
       "      <th>9</th>\n",
       "      <th>10</th>\n",
       "      <th>11</th>\n",
       "      <th>12</th>\n",
       "      <th>13</th>\n",
       "      <th>14</th>\n",
       "      <th>15</th>\n",
       "      <th>16</th>\n",
       "      <th>17</th>\n",
       "      <th>18</th>\n",
       "      <th>19</th>\n",
       "    </tr>\n",
       "  </thead>\n",
       "  <tbody>\n",
       "    <tr>\n",
       "      <th>0</th>\n",
       "      <td>0</td>\n",
       "      <td>0</td>\n",
       "      <td>0</td>\n",
       "      <td>1</td>\n",
       "      <td>1</td>\n",
       "      <td>1</td>\n",
       "      <td>0</td>\n",
       "      <td>0</td>\n",
       "      <td>0</td>\n",
       "      <td>1</td>\n",
       "      <td>0</td>\n",
       "      <td>1</td>\n",
       "      <td>1</td>\n",
       "      <td>1</td>\n",
       "      <td>1</td>\n",
       "      <td>1</td>\n",
       "      <td>1</td>\n",
       "      <td>1</td>\n",
       "      <td>0</td>\n",
       "      <td>1</td>\n",
       "    </tr>\n",
       "    <tr>\n",
       "      <th>1</th>\n",
       "      <td>0</td>\n",
       "      <td>1</td>\n",
       "      <td>1</td>\n",
       "      <td>1</td>\n",
       "      <td>0</td>\n",
       "      <td>1</td>\n",
       "      <td>0</td>\n",
       "      <td>1</td>\n",
       "      <td>1</td>\n",
       "      <td>1</td>\n",
       "      <td>1</td>\n",
       "      <td>1</td>\n",
       "      <td>1</td>\n",
       "      <td>1</td>\n",
       "      <td>1</td>\n",
       "      <td>1</td>\n",
       "      <td>0</td>\n",
       "      <td>0</td>\n",
       "      <td>1</td>\n",
       "      <td>1</td>\n",
       "    </tr>\n",
       "    <tr>\n",
       "      <th>2</th>\n",
       "      <td>1</td>\n",
       "      <td>0</td>\n",
       "      <td>0</td>\n",
       "      <td>1</td>\n",
       "      <td>1</td>\n",
       "      <td>0</td>\n",
       "      <td>1</td>\n",
       "      <td>1</td>\n",
       "      <td>1</td>\n",
       "      <td>1</td>\n",
       "      <td>0</td>\n",
       "      <td>0</td>\n",
       "      <td>1</td>\n",
       "      <td>1</td>\n",
       "      <td>0</td>\n",
       "      <td>0</td>\n",
       "      <td>0</td>\n",
       "      <td>0</td>\n",
       "      <td>1</td>\n",
       "      <td>1</td>\n",
       "    </tr>\n",
       "    <tr>\n",
       "      <th>3</th>\n",
       "      <td>1</td>\n",
       "      <td>0</td>\n",
       "      <td>0</td>\n",
       "      <td>0</td>\n",
       "      <td>1</td>\n",
       "      <td>1</td>\n",
       "      <td>1</td>\n",
       "      <td>1</td>\n",
       "      <td>0</td>\n",
       "      <td>1</td>\n",
       "      <td>0</td>\n",
       "      <td>1</td>\n",
       "      <td>1</td>\n",
       "      <td>0</td>\n",
       "      <td>1</td>\n",
       "      <td>0</td>\n",
       "      <td>1</td>\n",
       "      <td>0</td>\n",
       "      <td>1</td>\n",
       "      <td>0</td>\n",
       "    </tr>\n",
       "    <tr>\n",
       "      <th>4</th>\n",
       "      <td>0</td>\n",
       "      <td>1</td>\n",
       "      <td>1</td>\n",
       "      <td>0</td>\n",
       "      <td>0</td>\n",
       "      <td>1</td>\n",
       "      <td>1</td>\n",
       "      <td>1</td>\n",
       "      <td>0</td>\n",
       "      <td>1</td>\n",
       "      <td>1</td>\n",
       "      <td>0</td>\n",
       "      <td>1</td>\n",
       "      <td>1</td>\n",
       "      <td>1</td>\n",
       "      <td>1</td>\n",
       "      <td>0</td>\n",
       "      <td>0</td>\n",
       "      <td>1</td>\n",
       "      <td>0</td>\n",
       "    </tr>\n",
       "  </tbody>\n",
       "</table>\n",
       "</div>"
      ],
      "text/plain": [
       "   0   1   2   3   4   5   6   7   8   9   10  11  12  13  14  15  16  17  18  \\\n",
       "0   0   0   0   1   1   1   0   0   0   1   0   1   1   1   1   1   1   1   0   \n",
       "1   0   1   1   1   0   1   0   1   1   1   1   1   1   1   1   1   0   0   1   \n",
       "2   1   0   0   1   1   0   1   1   1   1   0   0   1   1   0   0   0   0   1   \n",
       "3   1   0   0   0   1   1   1   1   0   1   0   1   1   0   1   0   1   0   1   \n",
       "4   0   1   1   0   0   1   1   1   0   1   1   0   1   1   1   1   0   0   1   \n",
       "\n",
       "   19  \n",
       "0   1  \n",
       "1   1  \n",
       "2   1  \n",
       "3   0  \n",
       "4   0  "
      ]
     },
     "execution_count": 227,
     "metadata": {},
     "output_type": "execute_result"
    }
   ],
   "source": [
    "Sd.head()"
   ]
  },
  {
   "cell_type": "code",
   "execution_count": 228,
   "id": "3c13f76f",
   "metadata": {},
   "outputs": [
    {
     "data": {
      "text/plain": [
       "(800000, 20)"
      ]
     },
     "execution_count": 228,
     "metadata": {},
     "output_type": "execute_result"
    }
   ],
   "source": [
    "Sd.shape"
   ]
  },
  {
   "cell_type": "code",
   "execution_count": 229,
   "id": "fa0c8fa4",
   "metadata": {},
   "outputs": [],
   "source": [
    "sd_train=Sd[0:400000]"
   ]
  },
  {
   "cell_type": "code",
   "execution_count": 230,
   "id": "92d4d760",
   "metadata": {},
   "outputs": [
    {
     "data": {
      "text/plain": [
       "(400000, 20)"
      ]
     },
     "execution_count": 230,
     "metadata": {},
     "output_type": "execute_result"
    }
   ],
   "source": [
    "sd_train.shape"
   ]
  },
  {
   "cell_type": "markdown",
   "id": "d6ed775e",
   "metadata": {},
   "source": [
    "# Data Preparation "
   ]
  },
  {
   "cell_type": "code",
   "execution_count": 231,
   "id": "b1503e30",
   "metadata": {},
   "outputs": [],
   "source": [
    "def encode_all(data):\n",
    "       \n",
    "    # Apply one-hot encoding to categorical attributes\n",
    "    for col in data.columns:\n",
    "        if (data[col].dtype=='object'): \n",
    "            data = pd.get_dummies(data, columns=[col])\n",
    "   # Apply Minmax Normalization \n",
    "    for col in data.columns:\n",
    "        if ((data[col].dtype=='float64')or(data[col].dtype=='int64')): \n",
    "            data[col] = np.round((data[col] - data[col].min()) / (data[col].max() - data[col].min()) ,3)  \n",
    "    \n",
    "     \n",
    "    train=data[0:int(len(data)*0.80)]  \n",
    "    validation_set=data[int((0.80*len(data))):int(len(data)*0.90)] \n",
    "    test=data[int((0.90*len(data))):len(data)]         \n",
    "       \n",
    "  \n",
    "    return train, validation_set,test "
   ]
  },
  {
   "cell_type": "code",
   "execution_count": 232,
   "id": "5523733f",
   "metadata": {},
   "outputs": [],
   "source": [
    "train,validation_set,test=encode_all(sd_train) #test is validation set"
   ]
  },
  {
   "cell_type": "code",
   "execution_count": 233,
   "id": "20e28f48",
   "metadata": {},
   "outputs": [
    {
     "data": {
      "text/html": [
       "<div>\n",
       "<style scoped>\n",
       "    .dataframe tbody tr th:only-of-type {\n",
       "        vertical-align: middle;\n",
       "    }\n",
       "\n",
       "    .dataframe tbody tr th {\n",
       "        vertical-align: top;\n",
       "    }\n",
       "\n",
       "    .dataframe thead th {\n",
       "        text-align: right;\n",
       "    }\n",
       "</style>\n",
       "<table border=\"1\" class=\"dataframe\">\n",
       "  <thead>\n",
       "    <tr style=\"text-align: right;\">\n",
       "      <th></th>\n",
       "      <th>0</th>\n",
       "      <th>1</th>\n",
       "      <th>2</th>\n",
       "      <th>3</th>\n",
       "      <th>4</th>\n",
       "      <th>5</th>\n",
       "      <th>6</th>\n",
       "      <th>7</th>\n",
       "      <th>8</th>\n",
       "      <th>9</th>\n",
       "      <th>10</th>\n",
       "      <th>11</th>\n",
       "      <th>12</th>\n",
       "      <th>13</th>\n",
       "      <th>14</th>\n",
       "      <th>15</th>\n",
       "      <th>16</th>\n",
       "      <th>17</th>\n",
       "      <th>18</th>\n",
       "      <th>19</th>\n",
       "    </tr>\n",
       "  </thead>\n",
       "  <tbody>\n",
       "    <tr>\n",
       "      <th>0</th>\n",
       "      <td>0.0</td>\n",
       "      <td>0.0</td>\n",
       "      <td>0.0</td>\n",
       "      <td>1.0</td>\n",
       "      <td>1.0</td>\n",
       "      <td>1.0</td>\n",
       "      <td>0.0</td>\n",
       "      <td>0.0</td>\n",
       "      <td>0.0</td>\n",
       "      <td>1.0</td>\n",
       "      <td>0.0</td>\n",
       "      <td>1.0</td>\n",
       "      <td>1.0</td>\n",
       "      <td>1.0</td>\n",
       "      <td>1.0</td>\n",
       "      <td>1.0</td>\n",
       "      <td>1.0</td>\n",
       "      <td>1.0</td>\n",
       "      <td>0.0</td>\n",
       "      <td>1.0</td>\n",
       "    </tr>\n",
       "    <tr>\n",
       "      <th>1</th>\n",
       "      <td>0.0</td>\n",
       "      <td>1.0</td>\n",
       "      <td>1.0</td>\n",
       "      <td>1.0</td>\n",
       "      <td>0.0</td>\n",
       "      <td>1.0</td>\n",
       "      <td>0.0</td>\n",
       "      <td>1.0</td>\n",
       "      <td>1.0</td>\n",
       "      <td>1.0</td>\n",
       "      <td>1.0</td>\n",
       "      <td>1.0</td>\n",
       "      <td>1.0</td>\n",
       "      <td>1.0</td>\n",
       "      <td>1.0</td>\n",
       "      <td>1.0</td>\n",
       "      <td>0.0</td>\n",
       "      <td>0.0</td>\n",
       "      <td>1.0</td>\n",
       "      <td>1.0</td>\n",
       "    </tr>\n",
       "    <tr>\n",
       "      <th>2</th>\n",
       "      <td>1.0</td>\n",
       "      <td>0.0</td>\n",
       "      <td>0.0</td>\n",
       "      <td>1.0</td>\n",
       "      <td>1.0</td>\n",
       "      <td>0.0</td>\n",
       "      <td>1.0</td>\n",
       "      <td>1.0</td>\n",
       "      <td>1.0</td>\n",
       "      <td>1.0</td>\n",
       "      <td>0.0</td>\n",
       "      <td>0.0</td>\n",
       "      <td>1.0</td>\n",
       "      <td>1.0</td>\n",
       "      <td>0.0</td>\n",
       "      <td>0.0</td>\n",
       "      <td>0.0</td>\n",
       "      <td>0.0</td>\n",
       "      <td>1.0</td>\n",
       "      <td>1.0</td>\n",
       "    </tr>\n",
       "    <tr>\n",
       "      <th>3</th>\n",
       "      <td>1.0</td>\n",
       "      <td>0.0</td>\n",
       "      <td>0.0</td>\n",
       "      <td>0.0</td>\n",
       "      <td>1.0</td>\n",
       "      <td>1.0</td>\n",
       "      <td>1.0</td>\n",
       "      <td>1.0</td>\n",
       "      <td>0.0</td>\n",
       "      <td>1.0</td>\n",
       "      <td>0.0</td>\n",
       "      <td>1.0</td>\n",
       "      <td>1.0</td>\n",
       "      <td>0.0</td>\n",
       "      <td>1.0</td>\n",
       "      <td>0.0</td>\n",
       "      <td>1.0</td>\n",
       "      <td>0.0</td>\n",
       "      <td>1.0</td>\n",
       "      <td>0.0</td>\n",
       "    </tr>\n",
       "    <tr>\n",
       "      <th>4</th>\n",
       "      <td>0.0</td>\n",
       "      <td>1.0</td>\n",
       "      <td>1.0</td>\n",
       "      <td>0.0</td>\n",
       "      <td>0.0</td>\n",
       "      <td>1.0</td>\n",
       "      <td>1.0</td>\n",
       "      <td>1.0</td>\n",
       "      <td>0.0</td>\n",
       "      <td>1.0</td>\n",
       "      <td>1.0</td>\n",
       "      <td>0.0</td>\n",
       "      <td>1.0</td>\n",
       "      <td>1.0</td>\n",
       "      <td>1.0</td>\n",
       "      <td>1.0</td>\n",
       "      <td>0.0</td>\n",
       "      <td>0.0</td>\n",
       "      <td>1.0</td>\n",
       "      <td>0.0</td>\n",
       "    </tr>\n",
       "    <tr>\n",
       "      <th>...</th>\n",
       "      <td>...</td>\n",
       "      <td>...</td>\n",
       "      <td>...</td>\n",
       "      <td>...</td>\n",
       "      <td>...</td>\n",
       "      <td>...</td>\n",
       "      <td>...</td>\n",
       "      <td>...</td>\n",
       "      <td>...</td>\n",
       "      <td>...</td>\n",
       "      <td>...</td>\n",
       "      <td>...</td>\n",
       "      <td>...</td>\n",
       "      <td>...</td>\n",
       "      <td>...</td>\n",
       "      <td>...</td>\n",
       "      <td>...</td>\n",
       "      <td>...</td>\n",
       "      <td>...</td>\n",
       "      <td>...</td>\n",
       "    </tr>\n",
       "    <tr>\n",
       "      <th>319995</th>\n",
       "      <td>0.0</td>\n",
       "      <td>0.0</td>\n",
       "      <td>1.0</td>\n",
       "      <td>0.0</td>\n",
       "      <td>1.0</td>\n",
       "      <td>1.0</td>\n",
       "      <td>0.0</td>\n",
       "      <td>0.0</td>\n",
       "      <td>1.0</td>\n",
       "      <td>1.0</td>\n",
       "      <td>0.0</td>\n",
       "      <td>1.0</td>\n",
       "      <td>1.0</td>\n",
       "      <td>0.0</td>\n",
       "      <td>0.0</td>\n",
       "      <td>0.0</td>\n",
       "      <td>0.0</td>\n",
       "      <td>0.0</td>\n",
       "      <td>0.0</td>\n",
       "      <td>0.0</td>\n",
       "    </tr>\n",
       "    <tr>\n",
       "      <th>319996</th>\n",
       "      <td>0.0</td>\n",
       "      <td>1.0</td>\n",
       "      <td>1.0</td>\n",
       "      <td>1.0</td>\n",
       "      <td>0.0</td>\n",
       "      <td>1.0</td>\n",
       "      <td>0.0</td>\n",
       "      <td>0.0</td>\n",
       "      <td>1.0</td>\n",
       "      <td>1.0</td>\n",
       "      <td>0.0</td>\n",
       "      <td>1.0</td>\n",
       "      <td>1.0</td>\n",
       "      <td>1.0</td>\n",
       "      <td>1.0</td>\n",
       "      <td>1.0</td>\n",
       "      <td>0.0</td>\n",
       "      <td>1.0</td>\n",
       "      <td>1.0</td>\n",
       "      <td>0.0</td>\n",
       "    </tr>\n",
       "    <tr>\n",
       "      <th>319997</th>\n",
       "      <td>1.0</td>\n",
       "      <td>0.0</td>\n",
       "      <td>0.0</td>\n",
       "      <td>0.0</td>\n",
       "      <td>0.0</td>\n",
       "      <td>0.0</td>\n",
       "      <td>0.0</td>\n",
       "      <td>0.0</td>\n",
       "      <td>1.0</td>\n",
       "      <td>1.0</td>\n",
       "      <td>0.0</td>\n",
       "      <td>0.0</td>\n",
       "      <td>1.0</td>\n",
       "      <td>1.0</td>\n",
       "      <td>1.0</td>\n",
       "      <td>0.0</td>\n",
       "      <td>1.0</td>\n",
       "      <td>0.0</td>\n",
       "      <td>1.0</td>\n",
       "      <td>1.0</td>\n",
       "    </tr>\n",
       "    <tr>\n",
       "      <th>319998</th>\n",
       "      <td>1.0</td>\n",
       "      <td>0.0</td>\n",
       "      <td>1.0</td>\n",
       "      <td>1.0</td>\n",
       "      <td>0.0</td>\n",
       "      <td>1.0</td>\n",
       "      <td>1.0</td>\n",
       "      <td>1.0</td>\n",
       "      <td>0.0</td>\n",
       "      <td>1.0</td>\n",
       "      <td>0.0</td>\n",
       "      <td>0.0</td>\n",
       "      <td>1.0</td>\n",
       "      <td>1.0</td>\n",
       "      <td>1.0</td>\n",
       "      <td>1.0</td>\n",
       "      <td>0.0</td>\n",
       "      <td>0.0</td>\n",
       "      <td>1.0</td>\n",
       "      <td>1.0</td>\n",
       "    </tr>\n",
       "    <tr>\n",
       "      <th>319999</th>\n",
       "      <td>0.0</td>\n",
       "      <td>0.0</td>\n",
       "      <td>1.0</td>\n",
       "      <td>1.0</td>\n",
       "      <td>0.0</td>\n",
       "      <td>1.0</td>\n",
       "      <td>1.0</td>\n",
       "      <td>1.0</td>\n",
       "      <td>1.0</td>\n",
       "      <td>0.0</td>\n",
       "      <td>0.0</td>\n",
       "      <td>0.0</td>\n",
       "      <td>1.0</td>\n",
       "      <td>0.0</td>\n",
       "      <td>1.0</td>\n",
       "      <td>1.0</td>\n",
       "      <td>0.0</td>\n",
       "      <td>0.0</td>\n",
       "      <td>0.0</td>\n",
       "      <td>0.0</td>\n",
       "    </tr>\n",
       "  </tbody>\n",
       "</table>\n",
       "<p>320000 rows × 20 columns</p>\n",
       "</div>"
      ],
      "text/plain": [
       "         0    1    2    3    4    5    6    7    8    9    10   11   12   13  \\\n",
       "0       0.0  0.0  0.0  1.0  1.0  1.0  0.0  0.0  0.0  1.0  0.0  1.0  1.0  1.0   \n",
       "1       0.0  1.0  1.0  1.0  0.0  1.0  0.0  1.0  1.0  1.0  1.0  1.0  1.0  1.0   \n",
       "2       1.0  0.0  0.0  1.0  1.0  0.0  1.0  1.0  1.0  1.0  0.0  0.0  1.0  1.0   \n",
       "3       1.0  0.0  0.0  0.0  1.0  1.0  1.0  1.0  0.0  1.0  0.0  1.0  1.0  0.0   \n",
       "4       0.0  1.0  1.0  0.0  0.0  1.0  1.0  1.0  0.0  1.0  1.0  0.0  1.0  1.0   \n",
       "...     ...  ...  ...  ...  ...  ...  ...  ...  ...  ...  ...  ...  ...  ...   \n",
       "319995  0.0  0.0  1.0  0.0  1.0  1.0  0.0  0.0  1.0  1.0  0.0  1.0  1.0  0.0   \n",
       "319996  0.0  1.0  1.0  1.0  0.0  1.0  0.0  0.0  1.0  1.0  0.0  1.0  1.0  1.0   \n",
       "319997  1.0  0.0  0.0  0.0  0.0  0.0  0.0  0.0  1.0  1.0  0.0  0.0  1.0  1.0   \n",
       "319998  1.0  0.0  1.0  1.0  0.0  1.0  1.0  1.0  0.0  1.0  0.0  0.0  1.0  1.0   \n",
       "319999  0.0  0.0  1.0  1.0  0.0  1.0  1.0  1.0  1.0  0.0  0.0  0.0  1.0  0.0   \n",
       "\n",
       "         14   15   16   17   18   19  \n",
       "0       1.0  1.0  1.0  1.0  0.0  1.0  \n",
       "1       1.0  1.0  0.0  0.0  1.0  1.0  \n",
       "2       0.0  0.0  0.0  0.0  1.0  1.0  \n",
       "3       1.0  0.0  1.0  0.0  1.0  0.0  \n",
       "4       1.0  1.0  0.0  0.0  1.0  0.0  \n",
       "...     ...  ...  ...  ...  ...  ...  \n",
       "319995  0.0  0.0  0.0  0.0  0.0  0.0  \n",
       "319996  1.0  1.0  0.0  1.0  1.0  0.0  \n",
       "319997  1.0  0.0  1.0  0.0  1.0  1.0  \n",
       "319998  1.0  1.0  0.0  0.0  1.0  1.0  \n",
       "319999  1.0  1.0  0.0  0.0  0.0  0.0  \n",
       "\n",
       "[320000 rows x 20 columns]"
      ]
     },
     "execution_count": 233,
     "metadata": {},
     "output_type": "execute_result"
    }
   ],
   "source": [
    "train"
   ]
  },
  {
   "cell_type": "code",
   "execution_count": 234,
   "id": "49030acc",
   "metadata": {},
   "outputs": [
    {
     "data": {
      "text/plain": [
       "(320000, 20)"
      ]
     },
     "execution_count": 234,
     "metadata": {},
     "output_type": "execute_result"
    }
   ],
   "source": [
    "train.shape"
   ]
  },
  {
   "cell_type": "code",
   "execution_count": 235,
   "id": "128e44f0",
   "metadata": {},
   "outputs": [],
   "source": [
    "def autoencoder (train,epochs,validation_set):\n",
    "    \n",
    "    # set bottleneck 1/3 of the input layer size\n",
    "    encoding_dim = int(np.floor(train.shape[-1]/3))\n",
    "    \n",
    "    # input layer size= # of attributes in the dataset after one-hot encoding\n",
    "    input_layer = tensorflow.keras.Input(shape=train.shape[1:]) # Input Layer\n",
    "    \n",
    "    encoded = layers.Dense(encoding_dim, activation='sigmoid')(input_layer) # Code Layer\n",
    "    decoded = layers.Dense(train.shape[1], activation='sigmoid')(encoded) # Output Laye\n",
    "       \n",
    "    \n",
    "    autoencoder = tensorflow.keras.Model(input_layer, decoded)\n",
    "    # above model maps an input to its reconstruction \n",
    "    \n",
    "    encoder = tensorflow.keras.Model(input_layer, encoded)\n",
    "    # above model maps input to its encoded representation \n",
    "    \n",
    "   \n",
    "    encoded_input = tensorflow.keras.Input(shape=(encoding_dim,))# Encoded Input\n",
    "    decoder_layer = autoencoder.layers[-1]# Retrieve last layer of autoencoder model defined above\n",
    "    decoder = tensorflow.keras.Model(encoded_input, decoder_layer(encoded_input))# Decoder Model\n",
    "          \n",
    "    autoencoder.compile(optimizer='adam', loss='mse') # Train autoencoder \n",
    "    history=autoencoder.fit(train,train, \n",
    "                epochs=epochs,\n",
    "                batch_size=32,\n",
    "                shuffle=True,\n",
    "                validation_data=(validation_set, validation_set)).history\n",
    "    return  autoencoder , history"
   ]
  },
  {
   "cell_type": "code",
   "execution_count": 236,
   "id": "cfc00e71",
   "metadata": {},
   "outputs": [],
   "source": [
    "def train_encoders(train,epochs,validation_set):\n",
    "    \n",
    "    print(\"Training Autoencoder \")\n",
    "    print (train.shape)\n",
    "    print (validation_set.shape)\n",
    "    encoder, history = autoencoder(train,epochs,validation_set)\n",
    "  \n",
    "    return encoder , history"
   ]
  },
  {
   "cell_type": "markdown",
   "id": "4739b8f6",
   "metadata": {},
   "source": [
    "#### Uncomment and run. \n",
    "encoder, history=train_encoders(train,100,validation_set)"
   ]
  },
  {
   "cell_type": "code",
   "execution_count": 241,
   "id": "6e286ce3",
   "metadata": {},
   "outputs": [],
   "source": [
    "def mse_predictions(test, encoder):\n",
    "    #test=data[int((0.66*len(data))):len(data)-1]\n",
    "    #pos_test, neg_test=encode(test)\n",
    "    #Y_test=test['class']\n",
    "    #X_test=test.drop(['class'],axis=1)\n",
    "    test=np.array(test)\n",
    "    predictions=[]\n",
    "    for i in range(0, test.shape[0]):\n",
    "        ROW = np.array([test[i]])\n",
    "        pred= encoder.predict(ROW) \n",
    "        mse = np.mean(np.power(test[i] - pred, 2))\n",
    "        predictions.append(mse)\n",
    "        #print(test[i] ,pred,mse)\n",
    "    return predictions"
   ]
  },
  {
   "cell_type": "code",
   "execution_count": 377,
   "id": "62f0f731",
   "metadata": {},
   "outputs": [],
   "source": [
    "def plot_results(predictions):\n",
    "    df=pd.DataFrame(predictions,columns=['MSE'])\n",
    "  \n",
    "    df['MSE']=df['MSE'].round(2)\n",
    "      \n",
    "      \n",
    "    f, axes = plt.subplots(1, 2,figsize=(16,4))\n",
    "    axes[0].set_title('Boxplot of Reconstruction Error') \n",
    "    #axes[0].xlabel('Reconstruction Error')\n",
    "    sns.boxplot(x=df['MSE'], data=df, ax=axes[0])\n",
    "    plt.savefig('Batch_Error_Boxlot.png')\n",
    "   \n",
    "    axes[1].set_title('Distribution Plot of Reconstruction Error')\n",
    "    #axes[1].xlabel('Reconstruction Error')     \n",
    "    sns.distplot(x=df['MSE'],  ax=axes[1])\n",
    "    plt.savefig('distribution_plot.png')\n",
    "    \n",
    "    fig, ax = plt.subplots(figsize=(16,5))\n",
    "    ax.set_title(\"Reconstruction Error Plot\")\n",
    "    plt.xlabel('Data Stream')\n",
    "    plt.plot(df['MSE'],label=\"Reconstruction Error\")\n",
    "    plt.savefig('error_line_plot.png')\n",
    "   \n",
    "    plt.legend()\n",
    "    plt.show()   \n",
    "  "
   ]
  },
  {
   "cell_type": "code",
   "execution_count": 250,
   "id": "be752816",
   "metadata": {},
   "outputs": [],
   "source": [
    "def plot_distplot(predictions):\n",
    "    df=pd.DataFrame(predictions,columns=['MSE'])\n",
    "   \n",
    "    df['MSE']=df['MSE'].round(2)\n",
    "               \n",
    "    f, axes = plt.subplots(figsize=(8,4))\n",
    "    axes.set_title('Distribution plot for Reconstruction Error')\n",
    "    plt.xlabel('Reconstruction Error')\n",
    "    sns.distplot(x=df['MSE'])\n",
    "    plt.savefig('dist_plot.png')\n",
    "    \n",
    "    fig, ax = plt.subplots(figsize=(16,5))\n",
    "    ax.set_title(\"Reconstruction Error Plot\")\n",
    "    plt.xlabel('Data Stream ')\n",
    "    plt.ylabel('Recons. Error ')\n",
    "    plt.plot(df['MSE'],label=\"Reconstruction Error\")\n",
    "    plt.savefig('line_plot.png')\n",
    "    plt.legend()\n",
    "    plt.show()  \n",
    "    "
   ]
  },
  {
   "cell_type": "code",
   "execution_count": 244,
   "id": "9761626b",
   "metadata": {},
   "outputs": [],
   "source": [
    "# Shapiro-Wilk Test\n",
    "def Shapiro_Wilk(data):\n",
    "    stat, p = shapiro(data)\n",
    "    print('Statistics=%.3f, p=%.10f' % (stat, p))\n",
    "    # interpret\n",
    "    alpha = 0.05\n",
    "    if p > alpha:\n",
    "        print('Sample looks Gaussian (fail to reject H0)')\n",
    "    else:\n",
    "        print('Sample does not look Gaussian (reject H0)')"
   ]
  },
  {
   "cell_type": "code",
   "execution_count": 245,
   "id": "38421826",
   "metadata": {},
   "outputs": [],
   "source": [
    "# D'Agostino and Pearson's Test\n",
    "def D_Agostino(data):\n",
    "    stat, p = normaltest(data)\n",
    "    print('Statistics=%.3f, p=%.3f' % (stat, p))\n",
    "    # interpret\n",
    "    alpha = 0.05\n",
    "    if p > alpha:\n",
    "        print('Sample looks Gaussian (fail to reject H0)')\n",
    "    else:\n",
    "        print('Sample does not look Gaussian (reject H0)')"
   ]
  },
  {
   "cell_type": "code",
   "execution_count": 246,
   "id": "384b71a8",
   "metadata": {},
   "outputs": [],
   "source": [
    "# Anderson-Darling Test\n",
    "def Anderson_Darling(data):\n",
    "    result = anderson(data)\n",
    "    print('Statistic: %.3f' % result.statistic)\n",
    "    p = 0\n",
    "    for i in range(len(result.critical_values)):\n",
    "        sl, cv = result.significance_level[i], result.critical_values[i]\n",
    "        if result.statistic < result.critical_values[i]:\n",
    "            print('%.3f: %.3f, data looks normal (fail to reject H0)' % (sl, cv))\n",
    "        else:\n",
    "            print('%.3f: %.3f, data does not look normal (reject H0)' % (sl, cv))"
   ]
  },
  {
   "cell_type": "markdown",
   "id": "1dd74c47",
   "metadata": {},
   "source": [
    "## Make Predictions on Test Data "
   ]
  },
  {
   "cell_type": "code",
   "execution_count": 247,
   "id": "08750575",
   "metadata": {},
   "outputs": [],
   "source": [
    "predictions_test=mse_predictions(test,encoder)"
   ]
  },
  {
   "cell_type": "code",
   "execution_count": 400,
   "id": "85160980",
   "metadata": {},
   "outputs": [
    {
     "name": "stderr",
     "output_type": "stream",
     "text": [
      "No handles with labels found to put in legend.\n"
     ]
    },
    {
     "data": {
      "image/png": "[encoded data removed]",
      "text/plain": [
       "<Figure size 1152x360 with 1 Axes>"
      ]
     },
     "metadata": {
      "needs_background": "light"
     },
     "output_type": "display_data"
    },
    {
     "data": {
      "image/png": "[encoded data removed]",
      "text/plain": [
       "<Figure size 576x288 with 1 Axes>"
      ]
     },
     "metadata": {
      "needs_background": "light"
     },
     "output_type": "display_data"
    }
   ],
   "source": [
    "plot_batch_mse(predictions_test)"
   ]
  },
  {
   "cell_type": "code",
   "execution_count": 399,
   "id": "9054b743",
   "metadata": {},
   "outputs": [
    {
     "data": {
      "image/png": "[encoded data removed]",
      "text/plain": [
       "<Figure size 576x288 with 1 Axes>"
      ]
     },
     "metadata": {
      "needs_background": "light"
     },
     "output_type": "display_data"
    },
    {
     "data": {
      "image/png": "[encoded data removed]",
      "text/plain": [
       "<Figure size 1152x360 with 1 Axes>"
      ]
     },
     "metadata": {
      "needs_background": "light"
     },
     "output_type": "display_data"
    }
   ],
   "source": [
    "plot_distplot(predictions_test)"
   ]
  },
  {
   "cell_type": "code",
   "execution_count": 378,
   "id": "38294048",
   "metadata": {},
   "outputs": [
    {
     "data": {
      "image/png": "[encoded data removed]",
      "text/plain": [
       "<Figure size 1152x288 with 2 Axes>"
      ]
     },
     "metadata": {
      "needs_background": "light"
     },
     "output_type": "display_data"
    },
    {
     "data": {
      "image/png": "[encoded data removed]",
      "text/plain": [
       "<Figure size 1152x360 with 1 Axes>"
      ]
     },
     "metadata": {
      "needs_background": "light"
     },
     "output_type": "display_data"
    }
   ],
   "source": [
    "plot_results(predictions_test)"
   ]
  },
  {
   "cell_type": "code",
   "execution_count": 257,
   "id": "a14dbf2b",
   "metadata": {},
   "outputs": [
    {
     "name": "stdout",
     "output_type": "stream",
     "text": [
      "Model: \"model_3\"\n",
      "_________________________________________________________________\n",
      "Layer (type)                 Output Shape              Param #   \n",
      "=================================================================\n",
      "input_3 (InputLayer)         [(None, 20)]              0         \n",
      "_________________________________________________________________\n",
      "dense_2 (Dense)              (None, 6)                 126       \n",
      "_________________________________________________________________\n",
      "dense_3 (Dense)              (None, 20)                140       \n",
      "=================================================================\n",
      "Total params: 266\n",
      "Trainable params: 266\n",
      "Non-trainable params: 0\n",
      "_________________________________________________________________\n"
     ]
    }
   ],
   "source": [
    "encoder.summary()"
   ]
  },
  {
   "cell_type": "code",
   "execution_count": 258,
   "id": "bfcbf814",
   "metadata": {},
   "outputs": [],
   "source": [
    "#Plot the model loss(train/test) for give number of epochs\n",
    "def plot_loss(history):\n",
    "    plt.plot(history['loss'], linewidth=2, label='Train')\n",
    "    plt.plot(history['val_loss'], linewidth=2, label='Validation')\n",
    "    plt.legend(loc='upper right')\n",
    "    plt.title('Model loss')\n",
    "    plt.ylabel('Loss')\n",
    "    plt.xlabel('Epoch')\n",
    "    #plt.ylim(ymin=0.70,ymax=1)\n",
    "    plt.show()"
   ]
  },
  {
   "cell_type": "code",
   "execution_count": 259,
   "id": "9d5fe5f5",
   "metadata": {},
   "outputs": [
    {
     "data": {
      "image/png": "[encoded data removed]",
      "text/plain": [
       "<Figure size 432x288 with 1 Axes>"
      ]
     },
     "metadata": {
      "needs_background": "light"
     },
     "output_type": "display_data"
    }
   ],
   "source": [
    "plot_loss(history)"
   ]
  },
  {
   "cell_type": "code",
   "execution_count": 260,
   "id": "6040f740",
   "metadata": {},
   "outputs": [],
   "source": [
    "def make_batches(data, batch_size):\n",
    "    data=np.array(data)\n",
    "    batches={}\n",
    "    \n",
    "    count=0\n",
    "    for index in range(0,data.shape[0],batch_size):\n",
    "        batches[count]=data[index:min(index+batch_size,data.shape[0]),:]\n",
    "        count+=1\n",
    "    return batches\n",
    "    #print(batch.shape) "
   ]
  },
  {
   "cell_type": "code",
   "execution_count": 261,
   "id": "362d6f39",
   "metadata": {},
   "outputs": [],
   "source": [
    "batches=make_batches(test,32)"
   ]
  },
  {
   "cell_type": "code",
   "execution_count": 262,
   "id": "b537359b",
   "metadata": {},
   "outputs": [],
   "source": [
    "def compute_instance_loss_batch_loss(batch,batch_size,encoder):\n",
    "    mse_list=[]\n",
    "    mse_sum=0  \n",
    "    for i in range(0,batch.shape[0]):\n",
    "        ROW = np.array([batch[i]])\n",
    "        pred= encoder.predict(ROW) \n",
    "        mse = np.round(np.mean(np.power(batch[i] - pred, 2)),5)\n",
    "        mse_list.append(mse)\n",
    "        mse_sum+=mse\n",
    "    avg_mse=mse_sum/batch_size\n",
    "    return mse_list,avg_mse   "
   ]
  },
  {
   "cell_type": "code",
   "execution_count": 264,
   "id": "3459fbdf",
   "metadata": {},
   "outputs": [],
   "source": [
    "def check_all_batch_normality(batches,encoder,batch_size):\n",
    "    batch_avg_mse=[]\n",
    "    batch_mse_values={}\n",
    "    for b in batches:\n",
    "        #print(\"\\n ********************\")\n",
    "        #print('Batch: {}'.format(b))\n",
    "        mse_list,average_mse=compute_instance_loss_batch_loss(batches[b],batch_size,encoder)\n",
    "        #plot_results(mse_list)\n",
    "        \n",
    "        #print(\"\\nShapiro_Wilk Test\")\n",
    "        #Shapiro_Wilk(mse_list)\n",
    "        #print(\"D_Agostino Test\")\n",
    "        #D_Agostino(mse_list)\n",
    "        #print(\"\\nAnderson_Darling Test\")\n",
    "        #Anderson_Darling(mse_list)\n",
    "        batch_avg_mse.append(average_mse)\n",
    "        batch_mse_values[b]=mse_list\n",
    "    return batch_avg_mse,batch_mse_values"
   ]
  },
  {
   "cell_type": "code",
   "execution_count": 265,
   "id": "3916ad06",
   "metadata": {},
   "outputs": [],
   "source": [
    "batch_avg_mse,batch_mse_values=check_all_batch_normality(batches,encoder,32)"
   ]
  },
  {
   "cell_type": "code",
   "execution_count": 375,
   "id": "ebf8d13b",
   "metadata": {},
   "outputs": [],
   "source": [
    "def plot_batch_mse(batch_mse):\n",
    "    df=pd.DataFrame(batch_mse,columns=['MSE'])\n",
    "    fig, ax = plt.subplots(figsize=(16,5))\n",
    "    ax.set_title('Batch Reconstruction Error Plot ')\n",
    "    plt.xlabel(\"Batch Stream\")\n",
    "    plt.ylabel(\" Batch Average Reconstruction Error\")\n",
    "    plt.plot(df['MSE'],label=\"Batch Recons.Error\")\n",
    "    plt.savefig('Batch_Error_plot.png')\n",
    "    \n",
    "    f, axes = plt.subplots(figsize=(8,4))\n",
    "    axes.set_title('Distribution plot for Batch Reconstruction Error')\n",
    "    plt.xlabel('Batch Average Reconstruction Error')\n",
    "    sns.distplot(x=df['MSE'])\n",
    "    plt.savefig('batch_dist_plot.png')\n",
    "    \n",
    "    axes.legend()\n",
    "    plt.show()    \n",
    "    \n",
    "    "
   ]
  },
  {
   "cell_type": "code",
   "execution_count": 381,
   "id": "94d57822",
   "metadata": {},
   "outputs": [
    {
     "name": "stderr",
     "output_type": "stream",
     "text": [
      "No handles with labels found to put in legend.\n"
     ]
    },
    {
     "data": {
      "image/png": "[encoded data removed]",
      "text/plain": [
       "<Figure size 1152x360 with 1 Axes>"
      ]
     },
     "metadata": {
      "needs_background": "light"
     },
     "output_type": "display_data"
    },
    {
     "data": {
      "image/png": "[encoded data removed]",
      "text/plain": [
       "<Figure size 576x288 with 1 Axes>"
      ]
     },
     "metadata": {
      "needs_background": "light"
     },
     "output_type": "display_data"
    }
   ],
   "source": [
    "plot_batch_mse(batch_avg_mse)"
   ]
  },
  {
   "cell_type": "code",
   "execution_count": 273,
   "id": "8bfd36b2",
   "metadata": {},
   "outputs": [
    {
     "name": "stdout",
     "output_type": "stream",
     "text": [
      "Statistic: 0.254\n",
      "15.000: 0.574, data looks normal (fail to reject H0)\n",
      "10.000: 0.654, data looks normal (fail to reject H0)\n",
      "5.000: 0.785, data looks normal (fail to reject H0)\n",
      "2.500: 0.915, data looks normal (fail to reject H0)\n",
      "1.000: 1.089, data looks normal (fail to reject H0)\n"
     ]
    }
   ],
   "source": [
    "Anderson_Darling(batch_avg_mse)"
   ]
  },
  {
   "cell_type": "code",
   "execution_count": 274,
   "id": "0b2b6d1e",
   "metadata": {},
   "outputs": [],
   "source": [
    "## computes loss threshold uisng IQR as well as ZScore from first test batch \n",
    "def compute_batch_threshold_testdata(batch_avg_mse):\n",
    "    Q1=np.quantile(batch_avg_mse,0.25)\n",
    "    Q3=np.quantile(batch_avg_mse,0.75)\n",
    "    IQR=Q3-Q1\n",
    "    thres_iqr=(Q3 + 1.5*IQR).round(4)\n",
    "    #Z_SCORE\n",
    "    mean=np.mean(batch_avg_mse)\n",
    "    sigma=np.std(batch_avg_mse)\n",
    "    thres_zscore=(mean+3*sigma).round(4)\n",
    "    thresh_max=np.round((np.max(batch_avg_mse)),3)\n",
    "    return thres_iqr, thres_zscore ,thresh_max"
   ]
  },
  {
   "cell_type": "code",
   "execution_count": 275,
   "id": "454f8f3d",
   "metadata": {},
   "outputs": [],
   "source": [
    "thres_iqr, thres_zscore ,thresh_max=compute_batch_threshold_testdata(batch_avg_mse)"
   ]
  },
  {
   "cell_type": "code",
   "execution_count": 276,
   "id": "a5c88af3",
   "metadata": {},
   "outputs": [
    {
     "data": {
      "text/plain": [
       "(0.1311, 0.1343, 0.138)"
      ]
     },
     "execution_count": 276,
     "metadata": {},
     "output_type": "execute_result"
    }
   ],
   "source": [
    "thres_iqr, thres_zscore ,thresh_max"
   ]
  },
  {
   "cell_type": "markdown",
   "id": "ccbc7521",
   "metadata": {},
   "source": [
    "##  Count Threshold Computation "
   ]
  },
  {
   "cell_type": "markdown",
   "id": "19566a0e",
   "metadata": {},
   "source": [
    "### Instance Loss Batch Loss"
   ]
  },
  {
   "cell_type": "code",
   "execution_count": 280,
   "id": "b3d7878a",
   "metadata": {},
   "outputs": [],
   "source": [
    "def compute_instance_threshold_firstN_batches(batch_mse_values,N):\n",
    "    zscore_list=[]\n",
    "    #value_list=[]\n",
    "    for k in range(0,N):\n",
    "        value_list=batch_mse_values[k]\n",
    "         #Z_SCORE\n",
    "        mean=np.mean(value_list)\n",
    "        sigma=np.std(value_list)\n",
    "        thres_zscore=(mean+3*sigma).round(4)\n",
    "        zscore_list.append(thres_zscore)\n",
    "        #print (value_list)\n",
    "        #print(zscore_list)\n",
    "    return (np.mean(zscore_list).round(4)) , zscore_list  "
   ]
  },
  {
   "cell_type": "code",
   "execution_count": 291,
   "id": "853bc2ab",
   "metadata": {},
   "outputs": [],
   "source": [
    "instance_thresh,zscore_list=compute_instance_threshold_firstN_batches(batch_mse_values,10)"
   ]
  },
  {
   "cell_type": "code",
   "execution_count": 290,
   "id": "770b7da1",
   "metadata": {},
   "outputs": [
    {
     "data": {
      "text/plain": [
       "0.2345"
      ]
     },
     "execution_count": 290,
     "metadata": {},
     "output_type": "execute_result"
    }
   ],
   "source": [
    "instance_thresh"
   ]
  },
  {
   "cell_type": "code",
   "execution_count": 283,
   "id": "459fcb20",
   "metadata": {},
   "outputs": [
    {
     "data": {
      "text/plain": [
       "[0.2399,\n",
       " 0.2252,\n",
       " 0.2176,\n",
       " 0.2478,\n",
       " 0.2421,\n",
       " 0.2757,\n",
       " 0.2121,\n",
       " 0.2607,\n",
       " 0.2916,\n",
       " 0.2249]"
      ]
     },
     "execution_count": 283,
     "metadata": {},
     "output_type": "execute_result"
    }
   ],
   "source": [
    "zscore_list"
   ]
  },
  {
   "cell_type": "code",
   "execution_count": 292,
   "id": "a1fbde57",
   "metadata": {},
   "outputs": [],
   "source": [
    "def threshold_exceed_count(batch_mse_values, thr):\n",
    "    exceed_count={}\n",
    "    for key in batch_mse_values.keys():\n",
    "        count=0\n",
    "        list=batch_mse_values[key]\n",
    "        for a in range(0,len(list)):\n",
    "            if list[a]>thr:\n",
    "                count+=1\n",
    "        exceed_count[key]=count \n",
    "    values = exceed_count.values()\n",
    "    total = sum(values)\n",
    "    return exceed_count,total"
   ]
  },
  {
   "cell_type": "code",
   "execution_count": 438,
   "id": "df7ee129",
   "metadata": {},
   "outputs": [],
   "source": [
    "# Counts the MSE values exceeding threshold in each batch \n",
    "exceed_count,total=threshold_exceed_count(batch_mse_values,instance_thresh)"
   ]
  },
  {
   "cell_type": "code",
   "execution_count": 439,
   "id": "4e164ae7",
   "metadata": {},
   "outputs": [
    {
     "data": {
      "text/plain": [
       "471"
      ]
     },
     "execution_count": 439,
     "metadata": {},
     "output_type": "execute_result"
    }
   ],
   "source": [
    "total"
   ]
  },
  {
   "cell_type": "code",
   "execution_count": 440,
   "id": "ff8b1338",
   "metadata": {},
   "outputs": [],
   "source": [
    "exceed_count;"
   ]
  },
  {
   "cell_type": "code",
   "execution_count": 441,
   "id": "e00f3067",
   "metadata": {},
   "outputs": [],
   "source": [
    "exceed_list=[]\n",
    "for key in exceed_count.keys():\n",
    "    exceed_list.append(exceed_count[key])"
   ]
  },
  {
   "cell_type": "code",
   "execution_count": 442,
   "id": "49247155",
   "metadata": {},
   "outputs": [],
   "source": [
    "count_thresh=np.max(exceed_list)"
   ]
  },
  {
   "cell_type": "code",
   "execution_count": 443,
   "id": "684b4d7f",
   "metadata": {},
   "outputs": [
    {
     "data": {
      "text/plain": [
       "3"
      ]
     },
     "execution_count": 443,
     "metadata": {},
     "output_type": "execute_result"
    }
   ],
   "source": [
    "count_thresh"
   ]
  },
  {
   "cell_type": "code",
   "execution_count": 444,
   "id": "81a2fde5",
   "metadata": {},
   "outputs": [
    {
     "data": {
      "text/plain": [
       "1250"
      ]
     },
     "execution_count": 444,
     "metadata": {},
     "output_type": "execute_result"
    }
   ],
   "source": [
    "len(exceed_list)"
   ]
  },
  {
   "cell_type": "markdown",
   "id": "4061817d",
   "metadata": {},
   "source": [
    "## Drift Detection Algorithm ( Algorithm 7)"
   ]
  },
  {
   "cell_type": "code",
   "execution_count": 426,
   "id": "5210c3c6",
   "metadata": {},
   "outputs": [],
   "source": [
    "def detect_drift(batch_mse, Thresh):\n",
    "    count=0 ## counts the number of consecutive batches exceding threshold\n",
    "    w_count=0 # Count of elements in Window. Windows contains batch number where batch MSE exceeds\n",
    "              #threshold \n",
    "    w_index_list=[] # Contains indices of batches where batch MSE esceeds threshold \n",
    "    for i in range(0,len(batch_mse)):\n",
    "        if(batch_mse[i])>Thresh:\n",
    "            if(len(w_index_list)==0 or (i-w_index_list[-1]==1)):\n",
    "                # Check if w_index_list is empty or its last entry is the previous batch\n",
    "                    w_index_list.append(i)# then append this batch to w_index_list\n",
    "            count+=1\n",
    "            #if (i!= w_index_list[-1]\n",
    "            #print (\"Batch %d MSE exceeds Threshold\" %i)\n",
    "            print(w_index_list)\n",
    "            if (count>2):# if for more than 2 consecutive batches  batch MSE esceeds threshold , then \n",
    "                         # confirm drift\n",
    "                drift_batch=i-2 # at the first batch i this window\n",
    "\n",
    "                print( \" Drift Confirmed at Batch No : % d\" %drift_batch)\n",
    "            if len(w_index_list)>=1:\n",
    "                #w_level=i-len(w_index_list)\n",
    "                print(\"Warning Level at Batch\",i)\n",
    "        \n",
    "        if(batch_mse[i])<Thresh:\n",
    "            count=0 # reset count \n",
    "            #if len(w_index_list)>=1:\n",
    "               # w_level=i-len(w_index_list)\n",
    "                #print(\"Warning Level at Batch\",w_level)\n",
    "            if len(w_index_list)<=3:\n",
    "                w_index_list=[]\n",
    "        "
   ]
  },
  {
   "cell_type": "markdown",
   "id": "f9f65c69",
   "metadata": {},
   "source": [
    "### Apply Drift Detection on Validation Set-II / Test Set"
   ]
  },
  {
   "cell_type": "code",
   "execution_count": 427,
   "id": "b9514c27",
   "metadata": {},
   "outputs": [
    {
     "name": "stdout",
     "output_type": "stream",
     "text": [
      "[135]\n",
      "Warning Level at Batch 135\n",
      "[791]\n",
      "Warning Level at Batch 791\n"
     ]
    }
   ],
   "source": [
    " detect_drift2(batch_avg_mse, thres_zscore)"
   ]
  },
  {
   "cell_type": "markdown",
   "id": "ab1b2509",
   "metadata": {},
   "source": [
    "### Data Stream with Sudden Drift "
   ]
  },
  {
   "cell_type": "code",
   "execution_count": 302,
   "id": "265d9a0b",
   "metadata": {},
   "outputs": [],
   "source": [
    "stream_sd=Sd[400000:800000]"
   ]
  },
  {
   "cell_type": "code",
   "execution_count": 371,
   "id": "07bc07b5",
   "metadata": {},
   "outputs": [
    {
     "data": {
      "text/plain": [
       "400000"
      ]
     },
     "execution_count": 371,
     "metadata": {},
     "output_type": "execute_result"
    }
   ],
   "source": [
    "len(stream_sd)"
   ]
  },
  {
   "cell_type": "code",
   "execution_count": 303,
   "id": "0c574656",
   "metadata": {},
   "outputs": [],
   "source": [
    "predictions_sd=mse_predictions(stream_sd,encoder)"
   ]
  },
  {
   "cell_type": "code",
   "execution_count": 374,
   "id": "f6641984",
   "metadata": {},
   "outputs": [
    {
     "data": {
      "image/png": "[encoded data removed]",
      "text/plain": [
       "<Figure size 1152x288 with 2 Axes>"
      ]
     },
     "metadata": {
      "needs_background": "light"
     },
     "output_type": "display_data"
    },
    {
     "data": {
      "image/png": "[encoded data removed]",
      "text/plain": [
       "<Figure size 1152x360 with 1 Axes>"
      ]
     },
     "metadata": {
      "needs_background": "light"
     },
     "output_type": "display_data"
    }
   ],
   "source": [
    "plot_results(predictions_sd)"
   ]
  },
  {
   "cell_type": "markdown",
   "id": "006f9add",
   "metadata": {},
   "source": [
    "## Make MSE Predictions in Batches and compute Batch MSE"
   ]
  },
  {
   "cell_type": "code",
   "execution_count": 305,
   "id": "d376881d",
   "metadata": {},
   "outputs": [],
   "source": [
    "# Here test  is a batch of size batch_size . This function computes average MSE for a batch passed \n",
    "def avg_mse_predictions(test, encoder,batch_size):\n",
    "   \n",
    "    test=np.array(test)\n",
    "  \n",
    "    mse_sum=0\n",
    "    for i in range(0, test.shape[0]):\n",
    "        ROW = np.array([test[i]])\n",
    "        pred= encoder.predict(ROW) \n",
    "        mse = np.round(np.mean(np.power(test[i] - pred, 2)),5)\n",
    "        mse_sum+=mse\n",
    "        \n",
    "    avg_mse=mse_sum/batch_size\n",
    "    return avg_mse"
   ]
  },
  {
   "cell_type": "code",
   "execution_count": 306,
   "id": "7f556da3",
   "metadata": {},
   "outputs": [],
   "source": [
    "## Computes batch MSE for all the batches in coming data stream data \n",
    "def compute_batch_mse(batches):\n",
    "    batch_mse=[]\n",
    "    for i in batches:\n",
    "        avg_batch_mse=avg_mse_predictions(batches[i],encoder,32)\n",
    "        batch_mse.append(avg_batch_mse)\n",
    "    return batch_mse"
   ]
  },
  {
   "cell_type": "code",
   "execution_count": 307,
   "id": "e1652c30",
   "metadata": {},
   "outputs": [],
   "source": [
    "batches_sd= make_batches(stream_sd,32)"
   ]
  },
  {
   "cell_type": "code",
   "execution_count": 308,
   "id": "ec7305c8",
   "metadata": {},
   "outputs": [],
   "source": [
    "batches_sd;"
   ]
  },
  {
   "cell_type": "code",
   "execution_count": 309,
   "id": "63739ca6",
   "metadata": {
    "scrolled": true
   },
   "outputs": [],
   "source": [
    "batch_avg_mse_sd,batch_mse_values_sd=check_all_batch_normality(batches_sd,encoder,32)"
   ]
  },
  {
   "cell_type": "code",
   "execution_count": 318,
   "id": "51ccd0d2",
   "metadata": {},
   "outputs": [
    {
     "data": {
      "text/plain": [
       "12500"
      ]
     },
     "execution_count": 318,
     "metadata": {},
     "output_type": "execute_result"
    }
   ],
   "source": [
    "len(batch_avg_mse_sd)"
   ]
  },
  {
   "cell_type": "code",
   "execution_count": 320,
   "id": "67e40b19",
   "metadata": {},
   "outputs": [],
   "source": [
    "batch_avg_mse_sd;"
   ]
  },
  {
   "cell_type": "code",
   "execution_count": 322,
   "id": "7b0c52d7",
   "metadata": {},
   "outputs": [],
   "source": [
    "batch_mse_values_sd;"
   ]
  },
  {
   "cell_type": "code",
   "execution_count": null,
   "id": "427e8453",
   "metadata": {},
   "outputs": [],
   "source": []
  },
  {
   "cell_type": "code",
   "execution_count": 454,
   "id": "431e2676",
   "metadata": {},
   "outputs": [],
   "source": [
    "exceed_count_sd,total_sd=threshold_exceed_count(batch_mse_values_sd,instance_thresh)"
   ]
  },
  {
   "cell_type": "code",
   "execution_count": 455,
   "id": "eecb19d0",
   "metadata": {},
   "outputs": [
    {
     "data": {
      "text/plain": [
       "12500"
      ]
     },
     "execution_count": 455,
     "metadata": {},
     "output_type": "execute_result"
    }
   ],
   "source": [
    "len(exceed_count_sd)"
   ]
  },
  {
   "cell_type": "code",
   "execution_count": 456,
   "id": "70540060",
   "metadata": {},
   "outputs": [],
   "source": [
    "exceed_count_sd;"
   ]
  },
  {
   "cell_type": "code",
   "execution_count": 459,
   "id": "dab1c977",
   "metadata": {},
   "outputs": [],
   "source": [
    "exceed_list=[]\n",
    "for key in exceed_count_sd.keys():\n",
    "    exceed_list.append(exceed_count_sd[key])"
   ]
  },
  {
   "cell_type": "code",
   "execution_count": 460,
   "id": "b59bce89",
   "metadata": {},
   "outputs": [
    {
     "data": {
      "text/plain": [
       "12500"
      ]
     },
     "execution_count": 460,
     "metadata": {},
     "output_type": "execute_result"
    }
   ],
   "source": [
    "len(exceed_list)"
   ]
  },
  {
   "cell_type": "markdown",
   "id": "99ffb91e",
   "metadata": {},
   "source": [
    "## Plot BATCH MSE"
   ]
  },
  {
   "cell_type": "code",
   "execution_count": 382,
   "id": "1db47387",
   "metadata": {},
   "outputs": [
    {
     "name": "stderr",
     "output_type": "stream",
     "text": [
      "No handles with labels found to put in legend.\n"
     ]
    },
    {
     "data": {
      "image/png": "[encoded data removed]",
      "text/plain": [
       "<Figure size 1152x360 with 1 Axes>"
      ]
     },
     "metadata": {
      "needs_background": "light"
     },
     "output_type": "display_data"
    },
    {
     "data": {
      "image/png": "[encoded data removed]",
      "text/plain": [
       "<Figure size 576x288 with 1 Axes>"
      ]
     },
     "metadata": {
      "needs_background": "light"
     },
     "output_type": "display_data"
    }
   ],
   "source": [
    "plot_batch_mse(batch_avg_mse_sd)"
   ]
  },
  {
   "cell_type": "code",
   "execution_count": 87,
   "id": "5c36b2ad",
   "metadata": {},
   "outputs": [
    {
     "data": {
      "image/png": "[encoded data removed]",
      "text/plain": [
       "<Figure size 1152x360 with 1 Axes>"
      ]
     },
     "metadata": {
      "needs_background": "light"
     },
     "output_type": "display_data"
    }
   ],
   "source": [
    "plot_batch_mse(batch_avg_mse_sd)"
   ]
  },
  {
   "cell_type": "markdown",
   "id": "86c05834",
   "metadata": {},
   "source": [
    "## Detect Sudden Drift "
   ]
  },
  {
   "cell_type": "code",
   "execution_count": 187,
   "id": "eb7caca5",
   "metadata": {},
   "outputs": [
    {
     "data": {
      "text/plain": [
       "0.1348"
      ]
     },
     "execution_count": 187,
     "metadata": {},
     "output_type": "execute_result"
    }
   ],
   "source": [
    "thres_zscore"
   ]
  },
  {
   "cell_type": "code",
   "execution_count": 472,
   "id": "4179d53a",
   "metadata": {},
   "outputs": [],
   "source": [
    "a=batch_avg_mse_sd[0:3150]"
   ]
  },
  {
   "cell_type": "code",
   "execution_count": 473,
   "id": "505d3ca1",
   "metadata": {},
   "outputs": [
    {
     "name": "stdout",
     "output_type": "stream",
     "text": [
      "[39]\n",
      "Warning Level at Batch 39\n",
      "[600]\n",
      "Warning Level at Batch 600\n",
      "[1606]\n",
      "Warning Level at Batch 1606\n",
      "[1813]\n",
      "Warning Level at Batch 1813\n",
      "[2210]\n",
      "Warning Level at Batch 2210\n",
      "[2971]\n",
      "Warning Level at Batch 2971\n",
      "[3125]\n",
      "Warning Level at Batch 3125\n",
      "[3125, 3126]\n",
      "Warning Level at Batch 3126\n",
      "[3125, 3126, 3127]\n",
      " Drift Confirmed at Batch No :  3125\n",
      "Warning Level at Batch 3127\n",
      "[3125, 3126, 3127, 3128]\n",
      " Drift Confirmed at Batch No :  3126\n",
      "Warning Level at Batch 3128\n",
      "[3125, 3126, 3127, 3128, 3129]\n",
      " Drift Confirmed at Batch No :  3127\n",
      "Warning Level at Batch 3129\n",
      "[3125, 3126, 3127, 3128, 3129, 3130]\n",
      " Drift Confirmed at Batch No :  3128\n",
      "Warning Level at Batch 3130\n",
      "[3125, 3126, 3127, 3128, 3129, 3130, 3131]\n",
      " Drift Confirmed at Batch No :  3129\n",
      "Warning Level at Batch 3131\n",
      "[3125, 3126, 3127, 3128, 3129, 3130, 3131, 3132]\n",
      " Drift Confirmed at Batch No :  3130\n",
      "Warning Level at Batch 3132\n",
      "[3125, 3126, 3127, 3128, 3129, 3130, 3131, 3132, 3133]\n",
      " Drift Confirmed at Batch No :  3131\n",
      "Warning Level at Batch 3133\n",
      "[3125, 3126, 3127, 3128, 3129, 3130, 3131, 3132, 3133, 3134]\n",
      " Drift Confirmed at Batch No :  3132\n",
      "Warning Level at Batch 3134\n",
      "[3125, 3126, 3127, 3128, 3129, 3130, 3131, 3132, 3133, 3134, 3135]\n",
      " Drift Confirmed at Batch No :  3133\n",
      "Warning Level at Batch 3135\n",
      "[3125, 3126, 3127, 3128, 3129, 3130, 3131, 3132, 3133, 3134, 3135, 3136]\n",
      " Drift Confirmed at Batch No :  3134\n",
      "Warning Level at Batch 3136\n",
      "[3125, 3126, 3127, 3128, 3129, 3130, 3131, 3132, 3133, 3134, 3135, 3136, 3137]\n",
      " Drift Confirmed at Batch No :  3135\n",
      "Warning Level at Batch 3137\n",
      "[3125, 3126, 3127, 3128, 3129, 3130, 3131, 3132, 3133, 3134, 3135, 3136, 3137, 3138]\n",
      " Drift Confirmed at Batch No :  3136\n",
      "Warning Level at Batch 3138\n",
      "[3125, 3126, 3127, 3128, 3129, 3130, 3131, 3132, 3133, 3134, 3135, 3136, 3137, 3138, 3139]\n",
      " Drift Confirmed at Batch No :  3137\n",
      "Warning Level at Batch 3139\n",
      "[3125, 3126, 3127, 3128, 3129, 3130, 3131, 3132, 3133, 3134, 3135, 3136, 3137, 3138, 3139, 3140]\n",
      " Drift Confirmed at Batch No :  3138\n",
      "Warning Level at Batch 3140\n",
      "[3125, 3126, 3127, 3128, 3129, 3130, 3131, 3132, 3133, 3134, 3135, 3136, 3137, 3138, 3139, 3140, 3141]\n",
      " Drift Confirmed at Batch No :  3139\n",
      "Warning Level at Batch 3141\n",
      "[3125, 3126, 3127, 3128, 3129, 3130, 3131, 3132, 3133, 3134, 3135, 3136, 3137, 3138, 3139, 3140, 3141, 3142]\n",
      " Drift Confirmed at Batch No :  3140\n",
      "Warning Level at Batch 3142\n",
      "[3125, 3126, 3127, 3128, 3129, 3130, 3131, 3132, 3133, 3134, 3135, 3136, 3137, 3138, 3139, 3140, 3141, 3142, 3143]\n",
      " Drift Confirmed at Batch No :  3141\n",
      "Warning Level at Batch 3143\n",
      "[3125, 3126, 3127, 3128, 3129, 3130, 3131, 3132, 3133, 3134, 3135, 3136, 3137, 3138, 3139, 3140, 3141, 3142, 3143, 3144]\n",
      " Drift Confirmed at Batch No :  3142\n",
      "Warning Level at Batch 3144\n",
      "[3125, 3126, 3127, 3128, 3129, 3130, 3131, 3132, 3133, 3134, 3135, 3136, 3137, 3138, 3139, 3140, 3141, 3142, 3143, 3144, 3145]\n",
      " Drift Confirmed at Batch No :  3143\n",
      "Warning Level at Batch 3145\n",
      "[3125, 3126, 3127, 3128, 3129, 3130, 3131, 3132, 3133, 3134, 3135, 3136, 3137, 3138, 3139, 3140, 3141, 3142, 3143, 3144, 3145, 3146]\n",
      " Drift Confirmed at Batch No :  3144\n",
      "Warning Level at Batch 3146\n",
      "[3125, 3126, 3127, 3128, 3129, 3130, 3131, 3132, 3133, 3134, 3135, 3136, 3137, 3138, 3139, 3140, 3141, 3142, 3143, 3144, 3145, 3146, 3147]\n",
      " Drift Confirmed at Batch No :  3145\n",
      "Warning Level at Batch 3147\n",
      "[3125, 3126, 3127, 3128, 3129, 3130, 3131, 3132, 3133, 3134, 3135, 3136, 3137, 3138, 3139, 3140, 3141, 3142, 3143, 3144, 3145, 3146, 3147, 3148]\n",
      " Drift Confirmed at Batch No :  3146\n",
      "Warning Level at Batch 3148\n",
      "[3125, 3126, 3127, 3128, 3129, 3130, 3131, 3132, 3133, 3134, 3135, 3136, 3137, 3138, 3139, 3140, 3141, 3142, 3143, 3144, 3145, 3146, 3147, 3148, 3149]\n",
      " Drift Confirmed at Batch No :  3147\n",
      "Warning Level at Batch 3149\n"
     ]
    }
   ],
   "source": [
    "# Drift Detection using Z-Score\n",
    "# To limit the output , we are using first 3150 batches\n",
    "detect_drift(a,thres_zscore)"
   ]
  },
  {
   "cell_type": "markdown",
   "id": "c3f81172",
   "metadata": {},
   "source": [
    "# Working with Instance Threshold"
   ]
  },
  {
   "cell_type": "code",
   "execution_count": 162,
   "id": "a582e1cb",
   "metadata": {},
   "outputs": [],
   "source": [
    "def compute_batch_threshold_testdata2(batch_avg_mse):\n",
    "    #val_loss=history['val_loss']\n",
    "    ## Quartile Method \n",
    "    Q1=np.quantile(batch_avg_mse,0.25)\n",
    "    Q3=np.quantile(batch_avg_mse,0.75)\n",
    "    IQR=Q3-Q1\n",
    "    thres_iqr=(Q3 + 1.5*IQR).round(4)\n",
    "    #Z_SCORE\n",
    "    mean=np.mean(batch_avg_mse)\n",
    "    sigma=np.std(batch_avg_mse)\n",
    "    thres_zscore=(mean+3*sigma).round(4)\n",
    "    thresh_max=np.round((np.max(batch_avg_mse)),3)\n",
    "    return thres_iqr, thres_zscore ,thresh_max"
   ]
  },
  {
   "cell_type": "code",
   "execution_count": 163,
   "id": "9a68b5a0",
   "metadata": {},
   "outputs": [],
   "source": [
    "thres_iqr, thres_zscore ,thresh_max=compute_batch_threshold_testdata2(batch_avg_mse2)"
   ]
  },
  {
   "cell_type": "code",
   "execution_count": 164,
   "id": "ed5a77df",
   "metadata": {},
   "outputs": [
    {
     "data": {
      "text/plain": [
       "12500"
      ]
     },
     "execution_count": 164,
     "metadata": {},
     "output_type": "execute_result"
    }
   ],
   "source": [
    "len(exceed_count)"
   ]
  },
  {
   "cell_type": "code",
   "execution_count": 327,
   "id": "f50b1ebd",
   "metadata": {},
   "outputs": [],
   "source": [
    "Thresh=thres_zscore"
   ]
  },
  {
   "cell_type": "markdown",
   "id": "5fa38526",
   "metadata": {},
   "source": [
    "### Algorithm 6"
   ]
  },
  {
   "cell_type": "code",
   "execution_count": 461,
   "id": "9d03d3fd",
   "metadata": {},
   "outputs": [],
   "source": [
    "# This function takes two lists of Batch MSE and Exceed Counts along with Batch and Count Thresholds of Layer 2 AE\n",
    "# If a bathc exceed both thresholds , warning is generated and for 3 consectutive batches drift is confirmed.\n",
    "def detect_drift2(batch_mse,exceed_list, Thresh,count_thresh):\n",
    "    n=0 # total number of batches where MSE exceeds threshold\n",
    "    count=0 ## counts the number of consecutive batches exceding threshold\n",
    "    w_count=0 # Count of elements in Window. Windows contains batch number where batch MSE exceeds\n",
    "              #threshold \n",
    "    w_index_list=[] # Contains indices of batches where batch MSE esceeds threshold \n",
    "    for i in range(0,len(batch_mse)):\n",
    "        #print (batch_mse)\n",
    "        if((((batch_mse[i])>Thresh)) and (exceed_list[i]>count_thresh)):\n",
    "            print(' Threshold exceeds at batch : {}'.format(i))\n",
    "            n=n+1\n",
    "            #print('Cumulative Batch Count Exceeding Threshold : {}'.format(n))\n",
    "            if(len(w_index_list)==0 or (i-w_index_list[-1]==1)):\n",
    "                # Check if w_index_list is empty or its last entry is the previous batch\n",
    "                    w_index_list.append(i)# then append this batch to w_index_list\n",
    "            count+=1\n",
    "            #if (i!= w_index_list[-1]\n",
    "            #print (\"Batch %d MSE exceeds Threshold\" %i)\n",
    "            print(w_index_list)\n",
    "            if (count>2):# if for more than nine consecutive batches , batch MSE esceeds threshold , then \n",
    "                         # confirm drift\n",
    "                drift_batch=i-2 # at the first batch i this window\n",
    "\n",
    "                print( \" Drift Confirmed at Batch No : % d\" %drift_batch)\n",
    "            if (len(w_index_list)>=1 and len(w_index_list)<=2):\n",
    "                w_level=i-len(w_index_list)\n",
    "                print(\"Warning Level at Batch\",i)\n",
    "        \n",
    "        if(batch_mse[i])<Thresh:\n",
    "            count=0 # reset count \n",
    "            #if len(w_index_list)>=2:\n",
    "               # w_level=i-len(w_index_list)\n",
    "                #print(\"Warning Level at Batch\",w_level)\n",
    "            if len(w_index_list)<=3:\n",
    "                w_index_list=[]\n",
    "        \n",
    "   "
   ]
  },
  {
   "cell_type": "code",
   "execution_count": 462,
   "id": "47cc1fcd",
   "metadata": {},
   "outputs": [
    {
     "data": {
      "text/plain": [
       "3"
      ]
     },
     "execution_count": 462,
     "metadata": {},
     "output_type": "execute_result"
    }
   ],
   "source": [
    "count_thresh"
   ]
  },
  {
   "cell_type": "markdown",
   "id": "96fca217",
   "metadata": {},
   "source": [
    "### Sudden Drift Detection uisng Algorithm 6"
   ]
  },
  {
   "cell_type": "code",
   "execution_count": 474,
   "id": "de11f89e",
   "metadata": {},
   "outputs": [],
   "source": [
    "b=exceed_list[0:3150]"
   ]
  },
  {
   "cell_type": "markdown",
   "id": "e1569951",
   "metadata": {},
   "source": [
    "detect_drift2(batch_avg_mse_sd,exceed_list, Thresh,count_thresh)"
   ]
  },
  {
   "cell_type": "code",
   "execution_count": 475,
   "id": "76ccb21e",
   "metadata": {},
   "outputs": [
    {
     "name": "stdout",
     "output_type": "stream",
     "text": [
      " Threshold exceeds at batch : 3125\n",
      "[3125]\n",
      "Warning Level at Batch 3125\n",
      " Threshold exceeds at batch : 3126\n",
      "[3125, 3126]\n",
      "Warning Level at Batch 3126\n",
      " Threshold exceeds at batch : 3127\n",
      "[3125, 3126, 3127]\n",
      " Drift Confirmed at Batch No :  3125\n",
      " Threshold exceeds at batch : 3128\n",
      "[3125, 3126, 3127, 3128]\n",
      " Drift Confirmed at Batch No :  3126\n",
      " Threshold exceeds at batch : 3129\n",
      "[3125, 3126, 3127, 3128, 3129]\n",
      " Drift Confirmed at Batch No :  3127\n",
      " Threshold exceeds at batch : 3130\n",
      "[3125, 3126, 3127, 3128, 3129, 3130]\n",
      " Drift Confirmed at Batch No :  3128\n",
      " Threshold exceeds at batch : 3131\n",
      "[3125, 3126, 3127, 3128, 3129, 3130, 3131]\n",
      " Drift Confirmed at Batch No :  3129\n",
      " Threshold exceeds at batch : 3132\n",
      "[3125, 3126, 3127, 3128, 3129, 3130, 3131, 3132]\n",
      " Drift Confirmed at Batch No :  3130\n",
      " Threshold exceeds at batch : 3133\n",
      "[3125, 3126, 3127, 3128, 3129, 3130, 3131, 3132, 3133]\n",
      " Drift Confirmed at Batch No :  3131\n",
      " Threshold exceeds at batch : 3134\n",
      "[3125, 3126, 3127, 3128, 3129, 3130, 3131, 3132, 3133, 3134]\n",
      " Drift Confirmed at Batch No :  3132\n",
      " Threshold exceeds at batch : 3135\n",
      "[3125, 3126, 3127, 3128, 3129, 3130, 3131, 3132, 3133, 3134, 3135]\n",
      " Drift Confirmed at Batch No :  3133\n",
      " Threshold exceeds at batch : 3136\n",
      "[3125, 3126, 3127, 3128, 3129, 3130, 3131, 3132, 3133, 3134, 3135, 3136]\n",
      " Drift Confirmed at Batch No :  3134\n",
      " Threshold exceeds at batch : 3137\n",
      "[3125, 3126, 3127, 3128, 3129, 3130, 3131, 3132, 3133, 3134, 3135, 3136, 3137]\n",
      " Drift Confirmed at Batch No :  3135\n",
      " Threshold exceeds at batch : 3138\n",
      "[3125, 3126, 3127, 3128, 3129, 3130, 3131, 3132, 3133, 3134, 3135, 3136, 3137, 3138]\n",
      " Drift Confirmed at Batch No :  3136\n",
      " Threshold exceeds at batch : 3139\n",
      "[3125, 3126, 3127, 3128, 3129, 3130, 3131, 3132, 3133, 3134, 3135, 3136, 3137, 3138, 3139]\n",
      " Drift Confirmed at Batch No :  3137\n",
      " Threshold exceeds at batch : 3140\n",
      "[3125, 3126, 3127, 3128, 3129, 3130, 3131, 3132, 3133, 3134, 3135, 3136, 3137, 3138, 3139, 3140]\n",
      " Drift Confirmed at Batch No :  3138\n",
      " Threshold exceeds at batch : 3141\n",
      "[3125, 3126, 3127, 3128, 3129, 3130, 3131, 3132, 3133, 3134, 3135, 3136, 3137, 3138, 3139, 3140, 3141]\n",
      " Drift Confirmed at Batch No :  3139\n",
      " Threshold exceeds at batch : 3142\n",
      "[3125, 3126, 3127, 3128, 3129, 3130, 3131, 3132, 3133, 3134, 3135, 3136, 3137, 3138, 3139, 3140, 3141, 3142]\n",
      " Drift Confirmed at Batch No :  3140\n",
      " Threshold exceeds at batch : 3143\n",
      "[3125, 3126, 3127, 3128, 3129, 3130, 3131, 3132, 3133, 3134, 3135, 3136, 3137, 3138, 3139, 3140, 3141, 3142, 3143]\n",
      " Drift Confirmed at Batch No :  3141\n",
      " Threshold exceeds at batch : 3144\n",
      "[3125, 3126, 3127, 3128, 3129, 3130, 3131, 3132, 3133, 3134, 3135, 3136, 3137, 3138, 3139, 3140, 3141, 3142, 3143, 3144]\n",
      " Drift Confirmed at Batch No :  3142\n",
      " Threshold exceeds at batch : 3145\n",
      "[3125, 3126, 3127, 3128, 3129, 3130, 3131, 3132, 3133, 3134, 3135, 3136, 3137, 3138, 3139, 3140, 3141, 3142, 3143, 3144, 3145]\n",
      " Drift Confirmed at Batch No :  3143\n",
      " Threshold exceeds at batch : 3146\n",
      "[3125, 3126, 3127, 3128, 3129, 3130, 3131, 3132, 3133, 3134, 3135, 3136, 3137, 3138, 3139, 3140, 3141, 3142, 3143, 3144, 3145, 3146]\n",
      " Drift Confirmed at Batch No :  3144\n",
      " Threshold exceeds at batch : 3148\n",
      "[3125, 3126, 3127, 3128, 3129, 3130, 3131, 3132, 3133, 3134, 3135, 3136, 3137, 3138, 3139, 3140, 3141, 3142, 3143, 3144, 3145, 3146]\n",
      " Drift Confirmed at Batch No :  3146\n",
      " Threshold exceeds at batch : 3149\n",
      "[3125, 3126, 3127, 3128, 3129, 3130, 3131, 3132, 3133, 3134, 3135, 3136, 3137, 3138, 3139, 3140, 3141, 3142, 3143, 3144, 3145, 3146]\n",
      " Drift Confirmed at Batch No :  3147\n"
     ]
    }
   ],
   "source": [
    "# to limit the output , we have used  first 3150 batches only\n",
    "detect_drift2(a,b, Thresh,count_thresh)"
   ]
  },
  {
   "cell_type": "markdown",
   "id": "fd7c3c9d",
   "metadata": {},
   "source": [
    "## Part - B Working with Gradual Drift "
   ]
  },
  {
   "cell_type": "markdown",
   "id": "dbd30ac4",
   "metadata": {},
   "source": [
    "###  Gradual Drift Dataset : First 500000 records taken from S1 , [500000:600000] with a probability (600000-i)/100000 from S1 and with a probability (i-500000)/100000 from S2 , Rest taken from S2"
   ]
  },
  {
   "cell_type": "code",
   "execution_count": 477,
   "id": "9e7c2c50",
   "metadata": {},
   "outputs": [],
   "source": [
    "Gd=pd.read_csv(\"gradualdrift_energy.txt\",header=None , delimiter=' ')"
   ]
  },
  {
   "cell_type": "code",
   "execution_count": 478,
   "id": "6f97a7d4",
   "metadata": {},
   "outputs": [
    {
     "data": {
      "text/html": [
       "<div>\n",
       "<style scoped>\n",
       "    .dataframe tbody tr th:only-of-type {\n",
       "        vertical-align: middle;\n",
       "    }\n",
       "\n",
       "    .dataframe tbody tr th {\n",
       "        vertical-align: top;\n",
       "    }\n",
       "\n",
       "    .dataframe thead th {\n",
       "        text-align: right;\n",
       "    }\n",
       "</style>\n",
       "<table border=\"1\" class=\"dataframe\">\n",
       "  <thead>\n",
       "    <tr style=\"text-align: right;\">\n",
       "      <th></th>\n",
       "      <th>0</th>\n",
       "      <th>1</th>\n",
       "      <th>2</th>\n",
       "      <th>3</th>\n",
       "      <th>4</th>\n",
       "      <th>5</th>\n",
       "      <th>6</th>\n",
       "      <th>7</th>\n",
       "      <th>8</th>\n",
       "      <th>9</th>\n",
       "      <th>10</th>\n",
       "      <th>11</th>\n",
       "      <th>12</th>\n",
       "      <th>13</th>\n",
       "      <th>14</th>\n",
       "      <th>15</th>\n",
       "      <th>16</th>\n",
       "      <th>17</th>\n",
       "      <th>18</th>\n",
       "      <th>19</th>\n",
       "    </tr>\n",
       "  </thead>\n",
       "  <tbody>\n",
       "    <tr>\n",
       "      <th>0</th>\n",
       "      <td>0</td>\n",
       "      <td>0</td>\n",
       "      <td>0</td>\n",
       "      <td>1</td>\n",
       "      <td>1</td>\n",
       "      <td>1</td>\n",
       "      <td>0</td>\n",
       "      <td>0</td>\n",
       "      <td>0</td>\n",
       "      <td>1</td>\n",
       "      <td>0</td>\n",
       "      <td>1</td>\n",
       "      <td>1</td>\n",
       "      <td>1</td>\n",
       "      <td>1</td>\n",
       "      <td>1</td>\n",
       "      <td>1</td>\n",
       "      <td>1</td>\n",
       "      <td>0</td>\n",
       "      <td>1</td>\n",
       "    </tr>\n",
       "    <tr>\n",
       "      <th>1</th>\n",
       "      <td>0</td>\n",
       "      <td>1</td>\n",
       "      <td>1</td>\n",
       "      <td>1</td>\n",
       "      <td>0</td>\n",
       "      <td>1</td>\n",
       "      <td>0</td>\n",
       "      <td>1</td>\n",
       "      <td>1</td>\n",
       "      <td>1</td>\n",
       "      <td>1</td>\n",
       "      <td>1</td>\n",
       "      <td>1</td>\n",
       "      <td>1</td>\n",
       "      <td>1</td>\n",
       "      <td>1</td>\n",
       "      <td>0</td>\n",
       "      <td>0</td>\n",
       "      <td>1</td>\n",
       "      <td>1</td>\n",
       "    </tr>\n",
       "    <tr>\n",
       "      <th>2</th>\n",
       "      <td>1</td>\n",
       "      <td>0</td>\n",
       "      <td>0</td>\n",
       "      <td>1</td>\n",
       "      <td>1</td>\n",
       "      <td>0</td>\n",
       "      <td>1</td>\n",
       "      <td>1</td>\n",
       "      <td>1</td>\n",
       "      <td>1</td>\n",
       "      <td>0</td>\n",
       "      <td>0</td>\n",
       "      <td>1</td>\n",
       "      <td>1</td>\n",
       "      <td>0</td>\n",
       "      <td>0</td>\n",
       "      <td>0</td>\n",
       "      <td>0</td>\n",
       "      <td>1</td>\n",
       "      <td>1</td>\n",
       "    </tr>\n",
       "    <tr>\n",
       "      <th>3</th>\n",
       "      <td>1</td>\n",
       "      <td>0</td>\n",
       "      <td>0</td>\n",
       "      <td>0</td>\n",
       "      <td>1</td>\n",
       "      <td>1</td>\n",
       "      <td>1</td>\n",
       "      <td>1</td>\n",
       "      <td>0</td>\n",
       "      <td>1</td>\n",
       "      <td>0</td>\n",
       "      <td>1</td>\n",
       "      <td>1</td>\n",
       "      <td>0</td>\n",
       "      <td>1</td>\n",
       "      <td>0</td>\n",
       "      <td>1</td>\n",
       "      <td>0</td>\n",
       "      <td>1</td>\n",
       "      <td>0</td>\n",
       "    </tr>\n",
       "    <tr>\n",
       "      <th>4</th>\n",
       "      <td>0</td>\n",
       "      <td>1</td>\n",
       "      <td>1</td>\n",
       "      <td>0</td>\n",
       "      <td>0</td>\n",
       "      <td>1</td>\n",
       "      <td>1</td>\n",
       "      <td>1</td>\n",
       "      <td>0</td>\n",
       "      <td>1</td>\n",
       "      <td>1</td>\n",
       "      <td>0</td>\n",
       "      <td>1</td>\n",
       "      <td>1</td>\n",
       "      <td>1</td>\n",
       "      <td>1</td>\n",
       "      <td>0</td>\n",
       "      <td>0</td>\n",
       "      <td>1</td>\n",
       "      <td>0</td>\n",
       "    </tr>\n",
       "  </tbody>\n",
       "</table>\n",
       "</div>"
      ],
      "text/plain": [
       "   0   1   2   3   4   5   6   7   8   9   10  11  12  13  14  15  16  17  18  \\\n",
       "0   0   0   0   1   1   1   0   0   0   1   0   1   1   1   1   1   1   1   0   \n",
       "1   0   1   1   1   0   1   0   1   1   1   1   1   1   1   1   1   0   0   1   \n",
       "2   1   0   0   1   1   0   1   1   1   1   0   0   1   1   0   0   0   0   1   \n",
       "3   1   0   0   0   1   1   1   1   0   1   0   1   1   0   1   0   1   0   1   \n",
       "4   0   1   1   0   0   1   1   1   0   1   1   0   1   1   1   1   0   0   1   \n",
       "\n",
       "   19  \n",
       "0   1  \n",
       "1   1  \n",
       "2   1  \n",
       "3   0  \n",
       "4   0  "
      ]
     },
     "execution_count": 478,
     "metadata": {},
     "output_type": "execute_result"
    }
   ],
   "source": [
    "Gd.head()"
   ]
  },
  {
   "cell_type": "code",
   "execution_count": 479,
   "id": "8abd709c",
   "metadata": {},
   "outputs": [
    {
     "data": {
      "text/plain": [
       "(800000, 20)"
      ]
     },
     "execution_count": 479,
     "metadata": {},
     "output_type": "execute_result"
    }
   ],
   "source": [
    "Gd.shape\n"
   ]
  },
  {
   "cell_type": "markdown",
   "id": "23533117",
   "metadata": {},
   "source": [
    "No Trainng in required Here. We will use the same autoencoder as used in part -1 of this experiment"
   ]
  },
  {
   "cell_type": "markdown",
   "id": "a454e791",
   "metadata": {},
   "source": [
    "### Autoencoder is trained on first 400,000 records (10% of this data is used for validation)"
   ]
  },
  {
   "cell_type": "code",
   "execution_count": 480,
   "id": "b072ee0e",
   "metadata": {},
   "outputs": [],
   "source": [
    "Gd_train=Gd[0:400000]"
   ]
  },
  {
   "cell_type": "code",
   "execution_count": 481,
   "id": "746d375c",
   "metadata": {},
   "outputs": [],
   "source": [
    "train_gd,validation_set_gd,test_gd=encode_all(Gd_train)"
   ]
  },
  {
   "cell_type": "code",
   "execution_count": 482,
   "id": "4c27682d",
   "metadata": {},
   "outputs": [
    {
     "data": {
      "text/plain": [
       "(320000, 20)"
      ]
     },
     "execution_count": 482,
     "metadata": {},
     "output_type": "execute_result"
    }
   ],
   "source": [
    "train_gd.shape"
   ]
  },
  {
   "cell_type": "code",
   "execution_count": 483,
   "id": "68eb6bbe",
   "metadata": {},
   "outputs": [
    {
     "data": {
      "text/plain": [
       "(40000, 20)"
      ]
     },
     "execution_count": 483,
     "metadata": {},
     "output_type": "execute_result"
    }
   ],
   "source": [
    "test_gd.shape"
   ]
  },
  {
   "cell_type": "code",
   "execution_count": 484,
   "id": "946db425",
   "metadata": {},
   "outputs": [
    {
     "data": {
      "text/html": [
       "<div>\n",
       "<style scoped>\n",
       "    .dataframe tbody tr th:only-of-type {\n",
       "        vertical-align: middle;\n",
       "    }\n",
       "\n",
       "    .dataframe tbody tr th {\n",
       "        vertical-align: top;\n",
       "    }\n",
       "\n",
       "    .dataframe thead th {\n",
       "        text-align: right;\n",
       "    }\n",
       "</style>\n",
       "<table border=\"1\" class=\"dataframe\">\n",
       "  <thead>\n",
       "    <tr style=\"text-align: right;\">\n",
       "      <th></th>\n",
       "      <th>0</th>\n",
       "      <th>1</th>\n",
       "      <th>2</th>\n",
       "      <th>3</th>\n",
       "      <th>4</th>\n",
       "      <th>5</th>\n",
       "      <th>6</th>\n",
       "      <th>7</th>\n",
       "      <th>8</th>\n",
       "      <th>9</th>\n",
       "      <th>10</th>\n",
       "      <th>11</th>\n",
       "      <th>12</th>\n",
       "      <th>13</th>\n",
       "      <th>14</th>\n",
       "      <th>15</th>\n",
       "      <th>16</th>\n",
       "      <th>17</th>\n",
       "      <th>18</th>\n",
       "      <th>19</th>\n",
       "    </tr>\n",
       "  </thead>\n",
       "  <tbody>\n",
       "    <tr>\n",
       "      <th>320000</th>\n",
       "      <td>0.0</td>\n",
       "      <td>0.0</td>\n",
       "      <td>0.0</td>\n",
       "      <td>0.0</td>\n",
       "      <td>1.0</td>\n",
       "      <td>1.0</td>\n",
       "      <td>0.0</td>\n",
       "      <td>1.0</td>\n",
       "      <td>1.0</td>\n",
       "      <td>1.0</td>\n",
       "      <td>0.0</td>\n",
       "      <td>0.0</td>\n",
       "      <td>1.0</td>\n",
       "      <td>1.0</td>\n",
       "      <td>1.0</td>\n",
       "      <td>0.0</td>\n",
       "      <td>1.0</td>\n",
       "      <td>1.0</td>\n",
       "      <td>1.0</td>\n",
       "      <td>0.0</td>\n",
       "    </tr>\n",
       "    <tr>\n",
       "      <th>320001</th>\n",
       "      <td>0.0</td>\n",
       "      <td>0.0</td>\n",
       "      <td>1.0</td>\n",
       "      <td>1.0</td>\n",
       "      <td>1.0</td>\n",
       "      <td>1.0</td>\n",
       "      <td>0.0</td>\n",
       "      <td>0.0</td>\n",
       "      <td>1.0</td>\n",
       "      <td>1.0</td>\n",
       "      <td>0.0</td>\n",
       "      <td>1.0</td>\n",
       "      <td>1.0</td>\n",
       "      <td>1.0</td>\n",
       "      <td>1.0</td>\n",
       "      <td>1.0</td>\n",
       "      <td>0.0</td>\n",
       "      <td>0.0</td>\n",
       "      <td>1.0</td>\n",
       "      <td>1.0</td>\n",
       "    </tr>\n",
       "    <tr>\n",
       "      <th>320002</th>\n",
       "      <td>0.0</td>\n",
       "      <td>0.0</td>\n",
       "      <td>1.0</td>\n",
       "      <td>1.0</td>\n",
       "      <td>1.0</td>\n",
       "      <td>1.0</td>\n",
       "      <td>1.0</td>\n",
       "      <td>0.0</td>\n",
       "      <td>1.0</td>\n",
       "      <td>1.0</td>\n",
       "      <td>0.0</td>\n",
       "      <td>1.0</td>\n",
       "      <td>1.0</td>\n",
       "      <td>1.0</td>\n",
       "      <td>1.0</td>\n",
       "      <td>1.0</td>\n",
       "      <td>1.0</td>\n",
       "      <td>0.0</td>\n",
       "      <td>1.0</td>\n",
       "      <td>0.0</td>\n",
       "    </tr>\n",
       "    <tr>\n",
       "      <th>320003</th>\n",
       "      <td>0.0</td>\n",
       "      <td>0.0</td>\n",
       "      <td>1.0</td>\n",
       "      <td>1.0</td>\n",
       "      <td>1.0</td>\n",
       "      <td>1.0</td>\n",
       "      <td>1.0</td>\n",
       "      <td>1.0</td>\n",
       "      <td>1.0</td>\n",
       "      <td>1.0</td>\n",
       "      <td>1.0</td>\n",
       "      <td>0.0</td>\n",
       "      <td>1.0</td>\n",
       "      <td>1.0</td>\n",
       "      <td>1.0</td>\n",
       "      <td>1.0</td>\n",
       "      <td>1.0</td>\n",
       "      <td>0.0</td>\n",
       "      <td>1.0</td>\n",
       "      <td>0.0</td>\n",
       "    </tr>\n",
       "    <tr>\n",
       "      <th>320004</th>\n",
       "      <td>1.0</td>\n",
       "      <td>0.0</td>\n",
       "      <td>0.0</td>\n",
       "      <td>0.0</td>\n",
       "      <td>0.0</td>\n",
       "      <td>1.0</td>\n",
       "      <td>1.0</td>\n",
       "      <td>1.0</td>\n",
       "      <td>1.0</td>\n",
       "      <td>1.0</td>\n",
       "      <td>0.0</td>\n",
       "      <td>0.0</td>\n",
       "      <td>1.0</td>\n",
       "      <td>1.0</td>\n",
       "      <td>1.0</td>\n",
       "      <td>1.0</td>\n",
       "      <td>0.0</td>\n",
       "      <td>1.0</td>\n",
       "      <td>1.0</td>\n",
       "      <td>1.0</td>\n",
       "    </tr>\n",
       "    <tr>\n",
       "      <th>...</th>\n",
       "      <td>...</td>\n",
       "      <td>...</td>\n",
       "      <td>...</td>\n",
       "      <td>...</td>\n",
       "      <td>...</td>\n",
       "      <td>...</td>\n",
       "      <td>...</td>\n",
       "      <td>...</td>\n",
       "      <td>...</td>\n",
       "      <td>...</td>\n",
       "      <td>...</td>\n",
       "      <td>...</td>\n",
       "      <td>...</td>\n",
       "      <td>...</td>\n",
       "      <td>...</td>\n",
       "      <td>...</td>\n",
       "      <td>...</td>\n",
       "      <td>...</td>\n",
       "      <td>...</td>\n",
       "      <td>...</td>\n",
       "    </tr>\n",
       "    <tr>\n",
       "      <th>359995</th>\n",
       "      <td>1.0</td>\n",
       "      <td>0.0</td>\n",
       "      <td>1.0</td>\n",
       "      <td>0.0</td>\n",
       "      <td>0.0</td>\n",
       "      <td>0.0</td>\n",
       "      <td>1.0</td>\n",
       "      <td>1.0</td>\n",
       "      <td>0.0</td>\n",
       "      <td>1.0</td>\n",
       "      <td>1.0</td>\n",
       "      <td>0.0</td>\n",
       "      <td>0.0</td>\n",
       "      <td>1.0</td>\n",
       "      <td>0.0</td>\n",
       "      <td>1.0</td>\n",
       "      <td>1.0</td>\n",
       "      <td>1.0</td>\n",
       "      <td>1.0</td>\n",
       "      <td>1.0</td>\n",
       "    </tr>\n",
       "    <tr>\n",
       "      <th>359996</th>\n",
       "      <td>0.0</td>\n",
       "      <td>0.0</td>\n",
       "      <td>0.0</td>\n",
       "      <td>0.0</td>\n",
       "      <td>0.0</td>\n",
       "      <td>1.0</td>\n",
       "      <td>0.0</td>\n",
       "      <td>1.0</td>\n",
       "      <td>1.0</td>\n",
       "      <td>1.0</td>\n",
       "      <td>1.0</td>\n",
       "      <td>0.0</td>\n",
       "      <td>1.0</td>\n",
       "      <td>1.0</td>\n",
       "      <td>1.0</td>\n",
       "      <td>1.0</td>\n",
       "      <td>1.0</td>\n",
       "      <td>0.0</td>\n",
       "      <td>0.0</td>\n",
       "      <td>1.0</td>\n",
       "    </tr>\n",
       "    <tr>\n",
       "      <th>359997</th>\n",
       "      <td>1.0</td>\n",
       "      <td>1.0</td>\n",
       "      <td>1.0</td>\n",
       "      <td>0.0</td>\n",
       "      <td>0.0</td>\n",
       "      <td>1.0</td>\n",
       "      <td>1.0</td>\n",
       "      <td>1.0</td>\n",
       "      <td>1.0</td>\n",
       "      <td>1.0</td>\n",
       "      <td>0.0</td>\n",
       "      <td>0.0</td>\n",
       "      <td>1.0</td>\n",
       "      <td>1.0</td>\n",
       "      <td>1.0</td>\n",
       "      <td>1.0</td>\n",
       "      <td>0.0</td>\n",
       "      <td>0.0</td>\n",
       "      <td>1.0</td>\n",
       "      <td>0.0</td>\n",
       "    </tr>\n",
       "    <tr>\n",
       "      <th>359998</th>\n",
       "      <td>0.0</td>\n",
       "      <td>0.0</td>\n",
       "      <td>0.0</td>\n",
       "      <td>0.0</td>\n",
       "      <td>1.0</td>\n",
       "      <td>0.0</td>\n",
       "      <td>1.0</td>\n",
       "      <td>1.0</td>\n",
       "      <td>1.0</td>\n",
       "      <td>0.0</td>\n",
       "      <td>1.0</td>\n",
       "      <td>0.0</td>\n",
       "      <td>1.0</td>\n",
       "      <td>1.0</td>\n",
       "      <td>1.0</td>\n",
       "      <td>0.0</td>\n",
       "      <td>1.0</td>\n",
       "      <td>0.0</td>\n",
       "      <td>0.0</td>\n",
       "      <td>0.0</td>\n",
       "    </tr>\n",
       "    <tr>\n",
       "      <th>359999</th>\n",
       "      <td>1.0</td>\n",
       "      <td>0.0</td>\n",
       "      <td>1.0</td>\n",
       "      <td>1.0</td>\n",
       "      <td>0.0</td>\n",
       "      <td>1.0</td>\n",
       "      <td>0.0</td>\n",
       "      <td>1.0</td>\n",
       "      <td>1.0</td>\n",
       "      <td>0.0</td>\n",
       "      <td>1.0</td>\n",
       "      <td>0.0</td>\n",
       "      <td>1.0</td>\n",
       "      <td>1.0</td>\n",
       "      <td>1.0</td>\n",
       "      <td>1.0</td>\n",
       "      <td>0.0</td>\n",
       "      <td>0.0</td>\n",
       "      <td>0.0</td>\n",
       "      <td>1.0</td>\n",
       "    </tr>\n",
       "  </tbody>\n",
       "</table>\n",
       "<p>40000 rows × 20 columns</p>\n",
       "</div>"
      ],
      "text/plain": [
       "         0    1    2    3    4    5    6    7    8    9    10   11   12   13  \\\n",
       "320000  0.0  0.0  0.0  0.0  1.0  1.0  0.0  1.0  1.0  1.0  0.0  0.0  1.0  1.0   \n",
       "320001  0.0  0.0  1.0  1.0  1.0  1.0  0.0  0.0  1.0  1.0  0.0  1.0  1.0  1.0   \n",
       "320002  0.0  0.0  1.0  1.0  1.0  1.0  1.0  0.0  1.0  1.0  0.0  1.0  1.0  1.0   \n",
       "320003  0.0  0.0  1.0  1.0  1.0  1.0  1.0  1.0  1.0  1.0  1.0  0.0  1.0  1.0   \n",
       "320004  1.0  0.0  0.0  0.0  0.0  1.0  1.0  1.0  1.0  1.0  0.0  0.0  1.0  1.0   \n",
       "...     ...  ...  ...  ...  ...  ...  ...  ...  ...  ...  ...  ...  ...  ...   \n",
       "359995  1.0  0.0  1.0  0.0  0.0  0.0  1.0  1.0  0.0  1.0  1.0  0.0  0.0  1.0   \n",
       "359996  0.0  0.0  0.0  0.0  0.0  1.0  0.0  1.0  1.0  1.0  1.0  0.0  1.0  1.0   \n",
       "359997  1.0  1.0  1.0  0.0  0.0  1.0  1.0  1.0  1.0  1.0  0.0  0.0  1.0  1.0   \n",
       "359998  0.0  0.0  0.0  0.0  1.0  0.0  1.0  1.0  1.0  0.0  1.0  0.0  1.0  1.0   \n",
       "359999  1.0  0.0  1.0  1.0  0.0  1.0  0.0  1.0  1.0  0.0  1.0  0.0  1.0  1.0   \n",
       "\n",
       "         14   15   16   17   18   19  \n",
       "320000  1.0  0.0  1.0  1.0  1.0  0.0  \n",
       "320001  1.0  1.0  0.0  0.0  1.0  1.0  \n",
       "320002  1.0  1.0  1.0  0.0  1.0  0.0  \n",
       "320003  1.0  1.0  1.0  0.0  1.0  0.0  \n",
       "320004  1.0  1.0  0.0  1.0  1.0  1.0  \n",
       "...     ...  ...  ...  ...  ...  ...  \n",
       "359995  0.0  1.0  1.0  1.0  1.0  1.0  \n",
       "359996  1.0  1.0  1.0  0.0  0.0  1.0  \n",
       "359997  1.0  1.0  0.0  0.0  1.0  0.0  \n",
       "359998  1.0  0.0  1.0  0.0  0.0  0.0  \n",
       "359999  1.0  1.0  0.0  0.0  0.0  1.0  \n",
       "\n",
       "[40000 rows x 20 columns]"
      ]
     },
     "execution_count": 484,
     "metadata": {},
     "output_type": "execute_result"
    }
   ],
   "source": [
    "validation_set_gd"
   ]
  },
  {
   "cell_type": "markdown",
   "id": "40398e54",
   "metadata": {},
   "source": [
    "#### Predictions on test Set"
   ]
  },
  {
   "cell_type": "code",
   "execution_count": 91,
   "id": "a01e06be",
   "metadata": {},
   "outputs": [],
   "source": [
    "predictions_test_gd=mse_predictions(test_gd,encoder)"
   ]
  },
  {
   "cell_type": "code",
   "execution_count": 92,
   "id": "8f4eb50f",
   "metadata": {},
   "outputs": [
    {
     "name": "stdout",
     "output_type": "stream",
     "text": [
      "mean=0.097 ,max=0.353,min=0.016,variance=0.002\n"
     ]
    },
    {
     "data": {
      "image/png": "[encoded data removed]",
      "text/plain": [
       "<Figure size 1152x288 with 2 Axes>"
      ]
     },
     "metadata": {
      "needs_background": "light"
     },
     "output_type": "display_data"
    },
    {
     "data": {
      "image/png": "[encoded data removed]",
      "text/plain": [
       "<Figure size 1152x360 with 1 Axes>"
      ]
     },
     "metadata": {
      "needs_background": "light"
     },
     "output_type": "display_data"
    }
   ],
   "source": [
    "plot_results(predictions_test_gd)"
   ]
  },
  {
   "cell_type": "markdown",
   "id": "592662a4",
   "metadata": {},
   "source": [
    "## Monitoring the Data Stream for next 400,000 records"
   ]
  },
  {
   "cell_type": "code",
   "execution_count": 389,
   "id": "32daddd8",
   "metadata": {},
   "outputs": [],
   "source": [
    "stream_gd=Gd[400000:800000]"
   ]
  },
  {
   "cell_type": "code",
   "execution_count": 464,
   "id": "35d46292",
   "metadata": {},
   "outputs": [],
   "source": [
    "# Getting MSE prediction on Test Data . We will use the same autoencoders trained in part -1 of this experiement as in both cases training data is same.\n",
    "predictions_streams_gd=mse_predictions(stream_gd,encoder)"
   ]
  },
  {
   "cell_type": "code",
   "execution_count": 392,
   "id": "df5bd2b7",
   "metadata": {},
   "outputs": [
    {
     "name": "stderr",
     "output_type": "stream",
     "text": [
      "No handles with labels found to put in legend.\n"
     ]
    },
    {
     "data": {
      "image/png": "[encoded data removed]",
      "text/plain": [
       "<Figure size 1152x360 with 1 Axes>"
      ]
     },
     "metadata": {
      "needs_background": "light"
     },
     "output_type": "display_data"
    },
    {
     "data": {
      "image/png": "[encoded data removed]",
      "text/plain": [
       "<Figure size 576x288 with 1 Axes>"
      ]
     },
     "metadata": {
      "needs_background": "light"
     },
     "output_type": "display_data"
    }
   ],
   "source": [
    "plot_batch_mse(predictions_streams_gd)"
   ]
  },
  {
   "cell_type": "code",
   "execution_count": 393,
   "id": "4b3df1df",
   "metadata": {},
   "outputs": [
    {
     "name": "stdout",
     "output_type": "stream",
     "text": [
      "Statistic: 881.851\n",
      "15.000: 0.576, data does not look normal (reject H0)\n",
      "10.000: 0.656, data does not look normal (reject H0)\n",
      "5.000: 0.787, data does not look normal (reject H0)\n",
      "2.500: 0.918, data does not look normal (reject H0)\n",
      "1.000: 1.092, data does not look normal (reject H0)\n"
     ]
    }
   ],
   "source": [
    "Anderson_Darling(predictions_streams_gd)"
   ]
  },
  {
   "cell_type": "code",
   "execution_count": 394,
   "id": "9aa369c2",
   "metadata": {},
   "outputs": [
    {
     "data": {
      "image/png": "[encoded data removed]",
      "text/plain": [
       "<Figure size 1152x288 with 2 Axes>"
      ]
     },
     "metadata": {
      "needs_background": "light"
     },
     "output_type": "display_data"
    },
    {
     "data": {
      "image/png": "[encoded data removed]",
      "text/plain": [
       "<Figure size 1152x360 with 1 Axes>"
      ]
     },
     "metadata": {
      "needs_background": "light"
     },
     "output_type": "display_data"
    }
   ],
   "source": [
    "# Plotting the MSE\n",
    "plot_results(predictions_streams_gd)"
   ]
  },
  {
   "cell_type": "markdown",
   "id": "1e9ae21c",
   "metadata": {},
   "source": [
    "### Drift Detection : Woking in Batches"
   ]
  },
  {
   "cell_type": "code",
   "execution_count": 395,
   "id": "9028ff81",
   "metadata": {},
   "outputs": [],
   "source": [
    "# Divide all the test data into batches of size=256\n",
    "batches_gd=make_batches(stream_gd,32)"
   ]
  },
  {
   "cell_type": "code",
   "execution_count": 485,
   "id": "6d96b315",
   "metadata": {},
   "outputs": [],
   "source": [
    "batches_gd;"
   ]
  },
  {
   "cell_type": "code",
   "execution_count": 397,
   "id": "a9630008",
   "metadata": {},
   "outputs": [],
   "source": [
    "batch_avg_mse_gd,batch_mse_values_gd=check_all_batch_normality(batches_gd,encoder,32)"
   ]
  },
  {
   "cell_type": "code",
   "execution_count": 401,
   "id": "26c4ce59",
   "metadata": {},
   "outputs": [
    {
     "name": "stderr",
     "output_type": "stream",
     "text": [
      "No handles with labels found to put in legend.\n"
     ]
    },
    {
     "data": {
      "image/png": "[encoded data removed]",
      "text/plain": [
       "<Figure size 1152x360 with 1 Axes>"
      ]
     },
     "metadata": {
      "needs_background": "light"
     },
     "output_type": "display_data"
    },
    {
     "data": {
      "image/png": "[encoded data removed]",
      "text/plain": [
       "<Figure size 576x288 with 1 Axes>"
      ]
     },
     "metadata": {
      "needs_background": "light"
     },
     "output_type": "display_data"
    }
   ],
   "source": [
    "plot_batch_mse(batch_avg_mse_gd)"
   ]
  },
  {
   "cell_type": "code",
   "execution_count": 100,
   "id": "e30ee9f7",
   "metadata": {},
   "outputs": [
    {
     "data": {
      "image/png": "[encoded data removed]",
      "text/plain": [
       "<Figure size 1152x360 with 1 Axes>"
      ]
     },
     "metadata": {
      "needs_background": "light"
     },
     "output_type": "display_data"
    }
   ],
   "source": [
    "plot_batch_mse(batch_avg_mse_gd)"
   ]
  },
  {
   "cell_type": "code",
   "execution_count": 489,
   "id": "0506fb43",
   "metadata": {},
   "outputs": [],
   "source": [
    "c=batch_avg_mse_gd[0:4000]"
   ]
  },
  {
   "cell_type": "markdown",
   "id": "558555a6",
   "metadata": {},
   "source": [
    "detect_drift(batch_avg_mse_gd,thres_zscore)"
   ]
  },
  {
   "cell_type": "code",
   "execution_count": 490,
   "id": "361dc44e",
   "metadata": {},
   "outputs": [
    {
     "name": "stdout",
     "output_type": "stream",
     "text": [
      "[39]\n",
      "Warning Level at Batch 39\n",
      "[600]\n",
      "Warning Level at Batch 600\n",
      "[1606]\n",
      "Warning Level at Batch 1606\n",
      "[1813]\n",
      "Warning Level at Batch 1813\n",
      "[2210]\n",
      "Warning Level at Batch 2210\n",
      "[2971]\n",
      "Warning Level at Batch 2971\n",
      "[3296]\n",
      "Warning Level at Batch 3296\n",
      "[3358]\n",
      "Warning Level at Batch 3358\n",
      "[3365]\n",
      "Warning Level at Batch 3365\n",
      "[3384]\n",
      "Warning Level at Batch 3384\n",
      "[3397]\n",
      "Warning Level at Batch 3397\n",
      "[3413]\n",
      "Warning Level at Batch 3413\n",
      "[3416]\n",
      "Warning Level at Batch 3416\n",
      "[3449]\n",
      "Warning Level at Batch 3449\n",
      "[3451]\n",
      "Warning Level at Batch 3451\n",
      "[3458]\n",
      "Warning Level at Batch 3458\n",
      "[3477]\n",
      "Warning Level at Batch 3477\n",
      "[3482]\n",
      "Warning Level at Batch 3482\n",
      "[3482, 3483]\n",
      "Warning Level at Batch 3483\n",
      "[3517]\n",
      "Warning Level at Batch 3517\n",
      "[3524]\n",
      "Warning Level at Batch 3524\n",
      "[3541]\n",
      "Warning Level at Batch 3541\n",
      "[3570]\n",
      "Warning Level at Batch 3570\n",
      "[3581]\n",
      "Warning Level at Batch 3581\n",
      "[3591]\n",
      "Warning Level at Batch 3591\n",
      "[3596]\n",
      "Warning Level at Batch 3596\n",
      "[3612]\n",
      "Warning Level at Batch 3612\n",
      "[3619]\n",
      "Warning Level at Batch 3619\n",
      "[3619, 3620]\n",
      "Warning Level at Batch 3620\n",
      "[3622]\n",
      "Warning Level at Batch 3622\n",
      "[3650]\n",
      "Warning Level at Batch 3650\n",
      "[3660]\n",
      "Warning Level at Batch 3660\n",
      "[3665]\n",
      "Warning Level at Batch 3665\n",
      "[3667]\n",
      "Warning Level at Batch 3667\n",
      "[3670]\n",
      "Warning Level at Batch 3670\n",
      "[3678]\n",
      "Warning Level at Batch 3678\n",
      "[3682]\n",
      "Warning Level at Batch 3682\n",
      "[3684]\n",
      "Warning Level at Batch 3684\n",
      "[3687]\n",
      "Warning Level at Batch 3687\n",
      "[3689]\n",
      "Warning Level at Batch 3689\n",
      "[3701]\n",
      "Warning Level at Batch 3701\n",
      "[3701, 3702]\n",
      "Warning Level at Batch 3702\n",
      "[3709]\n",
      "Warning Level at Batch 3709\n",
      "[3713]\n",
      "Warning Level at Batch 3713\n",
      "[3717]\n",
      "Warning Level at Batch 3717\n",
      "[3727]\n",
      "Warning Level at Batch 3727\n",
      "[3729]\n",
      "Warning Level at Batch 3729\n",
      "[3736]\n",
      "Warning Level at Batch 3736\n",
      "[3744]\n",
      "Warning Level at Batch 3744\n",
      "[3747]\n",
      "Warning Level at Batch 3747\n",
      "[3747, 3748]\n",
      "Warning Level at Batch 3748\n",
      "[3750]\n",
      "Warning Level at Batch 3750\n",
      "[3750, 3751]\n",
      "Warning Level at Batch 3751\n",
      "[3755]\n",
      "Warning Level at Batch 3755\n",
      "[3757]\n",
      "Warning Level at Batch 3757\n",
      "[3769]\n",
      "Warning Level at Batch 3769\n",
      "[3774]\n",
      "Warning Level at Batch 3774\n",
      "[3780]\n",
      "Warning Level at Batch 3780\n",
      "[3782]\n",
      "Warning Level at Batch 3782\n",
      "[3788]\n",
      "Warning Level at Batch 3788\n",
      "[3791]\n",
      "Warning Level at Batch 3791\n",
      "[3796]\n",
      "Warning Level at Batch 3796\n",
      "[3798]\n",
      "Warning Level at Batch 3798\n",
      "[3800]\n",
      "Warning Level at Batch 3800\n",
      "[3800, 3801]\n",
      "Warning Level at Batch 3801\n",
      "[3800, 3801, 3802]\n",
      " Drift Confirmed at Batch No :  3800\n",
      "Warning Level at Batch 3802\n",
      "[3808]\n",
      "Warning Level at Batch 3808\n",
      "[3812]\n",
      "Warning Level at Batch 3812\n",
      "[3812, 3813]\n",
      "Warning Level at Batch 3813\n",
      "[3812, 3813, 3814]\n",
      " Drift Confirmed at Batch No :  3812\n",
      "Warning Level at Batch 3814\n",
      "[3818]\n",
      "Warning Level at Batch 3818\n",
      "[3820]\n",
      "Warning Level at Batch 3820\n",
      "[3823]\n",
      "Warning Level at Batch 3823\n",
      "[3823, 3824]\n",
      "Warning Level at Batch 3824\n",
      "[3827]\n",
      "Warning Level at Batch 3827\n",
      "[3829]\n",
      "Warning Level at Batch 3829\n",
      "[3837]\n",
      "Warning Level at Batch 3837\n",
      "[3844]\n",
      "Warning Level at Batch 3844\n",
      "[3849]\n",
      "Warning Level at Batch 3849\n",
      "[3849, 3850]\n",
      "Warning Level at Batch 3850\n",
      "[3853]\n",
      "Warning Level at Batch 3853\n",
      "[3866]\n",
      "Warning Level at Batch 3866\n",
      "[3871]\n",
      "Warning Level at Batch 3871\n",
      "[3871, 3872]\n",
      "Warning Level at Batch 3872\n",
      "[3875]\n",
      "Warning Level at Batch 3875\n",
      "[3881]\n",
      "Warning Level at Batch 3881\n",
      "[3881, 3882]\n",
      "Warning Level at Batch 3882\n",
      "[3884]\n",
      "Warning Level at Batch 3884\n",
      "[3897]\n",
      "Warning Level at Batch 3897\n",
      "[3900]\n",
      "Warning Level at Batch 3900\n",
      "[3900, 3901]\n",
      "Warning Level at Batch 3901\n",
      "[3905]\n",
      "Warning Level at Batch 3905\n",
      "[3905, 3906]\n",
      "Warning Level at Batch 3906\n",
      "[3905, 3906, 3907]\n",
      " Drift Confirmed at Batch No :  3905\n",
      "Warning Level at Batch 3907\n",
      "[3905, 3906, 3907, 3908]\n",
      " Drift Confirmed at Batch No :  3906\n",
      "Warning Level at Batch 3908\n",
      "[3905, 3906, 3907, 3908]\n",
      "Warning Level at Batch 3910\n",
      "[3905, 3906, 3907, 3908]\n",
      "Warning Level at Batch 3912\n",
      "[3905, 3906, 3907, 3908]\n",
      "Warning Level at Batch 3913\n",
      "[3905, 3906, 3907, 3908]\n",
      "Warning Level at Batch 3917\n",
      "[3905, 3906, 3907, 3908]\n",
      "Warning Level at Batch 3918\n",
      "[3905, 3906, 3907, 3908]\n",
      "Warning Level at Batch 3923\n",
      "[3905, 3906, 3907, 3908]\n",
      "Warning Level at Batch 3924\n",
      "[3905, 3906, 3907, 3908]\n",
      " Drift Confirmed at Batch No :  3923\n",
      "Warning Level at Batch 3925\n",
      "[3905, 3906, 3907, 3908]\n",
      " Drift Confirmed at Batch No :  3924\n",
      "Warning Level at Batch 3926\n",
      "[3905, 3906, 3907, 3908]\n",
      "Warning Level at Batch 3928\n",
      "[3905, 3906, 3907, 3908]\n",
      "Warning Level at Batch 3929\n",
      "[3905, 3906, 3907, 3908]\n",
      "Warning Level at Batch 3932\n",
      "[3905, 3906, 3907, 3908]\n",
      "Warning Level at Batch 3935\n",
      "[3905, 3906, 3907, 3908]\n",
      "Warning Level at Batch 3936\n",
      "[3905, 3906, 3907, 3908]\n",
      "Warning Level at Batch 3938\n",
      "[3905, 3906, 3907, 3908]\n",
      "Warning Level at Batch 3939\n",
      "[3905, 3906, 3907, 3908]\n",
      "Warning Level at Batch 3941\n",
      "[3905, 3906, 3907, 3908]\n",
      "Warning Level at Batch 3943\n",
      "[3905, 3906, 3907, 3908]\n",
      "Warning Level at Batch 3944\n",
      "[3905, 3906, 3907, 3908]\n",
      " Drift Confirmed at Batch No :  3943\n",
      "Warning Level at Batch 3945\n",
      "[3905, 3906, 3907, 3908]\n",
      "Warning Level at Batch 3947\n",
      "[3905, 3906, 3907, 3908]\n",
      "Warning Level at Batch 3949\n",
      "[3905, 3906, 3907, 3908]\n",
      "Warning Level at Batch 3951\n",
      "[3905, 3906, 3907, 3908]\n",
      "Warning Level at Batch 3953\n",
      "[3905, 3906, 3907, 3908]\n",
      "Warning Level at Batch 3954\n",
      "[3905, 3906, 3907, 3908]\n",
      "Warning Level at Batch 3956\n",
      "[3905, 3906, 3907, 3908]\n",
      "Warning Level at Batch 3957\n",
      "[3905, 3906, 3907, 3908]\n",
      "Warning Level at Batch 3963\n",
      "[3905, 3906, 3907, 3908]\n",
      "Warning Level at Batch 3964\n",
      "[3905, 3906, 3907, 3908]\n",
      "Warning Level at Batch 3967\n",
      "[3905, 3906, 3907, 3908]\n",
      "Warning Level at Batch 3968\n",
      "[3905, 3906, 3907, 3908]\n",
      " Drift Confirmed at Batch No :  3967\n",
      "Warning Level at Batch 3969\n",
      "[3905, 3906, 3907, 3908]\n",
      " Drift Confirmed at Batch No :  3968\n",
      "Warning Level at Batch 3970\n",
      "[3905, 3906, 3907, 3908]\n",
      "Warning Level at Batch 3972\n",
      "[3905, 3906, 3907, 3908]\n",
      "Warning Level at Batch 3975\n",
      "[3905, 3906, 3907, 3908]\n",
      "Warning Level at Batch 3977\n",
      "[3905, 3906, 3907, 3908]\n",
      "Warning Level at Batch 3978\n",
      "[3905, 3906, 3907, 3908]\n",
      " Drift Confirmed at Batch No :  3977\n",
      "Warning Level at Batch 3979\n",
      "[3905, 3906, 3907, 3908]\n",
      "Warning Level at Batch 3986\n",
      "[3905, 3906, 3907, 3908]\n",
      "Warning Level at Batch 3987\n",
      "[3905, 3906, 3907, 3908]\n",
      " Drift Confirmed at Batch No :  3986\n",
      "Warning Level at Batch 3988\n",
      "[3905, 3906, 3907, 3908]\n",
      "Warning Level at Batch 3991\n",
      "[3905, 3906, 3907, 3908]\n",
      "Warning Level at Batch 3992\n",
      "[3905, 3906, 3907, 3908]\n",
      " Drift Confirmed at Batch No :  3991\n",
      "Warning Level at Batch 3993\n",
      "[3905, 3906, 3907, 3908]\n",
      "Warning Level at Batch 3996\n",
      "[3905, 3906, 3907, 3908]\n",
      "Warning Level at Batch 3997\n"
     ]
    }
   ],
   "source": [
    "# Limiting Drift Detection to first 4000 batches\n",
    "detect_drift(c,thres_zscore)"
   ]
  },
  {
   "cell_type": "code",
   "execution_count": null,
   "id": "5dcf347c",
   "metadata": {},
   "outputs": [],
   "source": []
  },
  {
   "cell_type": "markdown",
   "id": "71fa9251",
   "metadata": {},
   "source": [
    "### Incorporating Count Threshold "
   ]
  },
  {
   "cell_type": "code",
   "execution_count": 409,
   "id": "edf4ddf0",
   "metadata": {},
   "outputs": [],
   "source": [
    "exceed_count_gd,total_gd=threshold_exceed_count(batch_mse_values_gd,instance_thresh)"
   ]
  },
  {
   "cell_type": "code",
   "execution_count": 410,
   "id": "d3000f0d",
   "metadata": {},
   "outputs": [
    {
     "data": {
      "text/plain": [
       "12500"
      ]
     },
     "execution_count": 410,
     "metadata": {},
     "output_type": "execute_result"
    }
   ],
   "source": [
    "len(exceed_count_gd)"
   ]
  },
  {
   "cell_type": "code",
   "execution_count": 344,
   "id": "44ec2c17",
   "metadata": {},
   "outputs": [],
   "source": [
    "exceed_count_gd;"
   ]
  },
  {
   "cell_type": "code",
   "execution_count": 411,
   "id": "5f98331b",
   "metadata": {},
   "outputs": [],
   "source": [
    "exceed_list_gd=[]\n",
    "for key in exceed_count_gd.keys():\n",
    "    exceed_list_gd.append(exceed_count_gd[key])"
   ]
  },
  {
   "cell_type": "code",
   "execution_count": 413,
   "id": "2e41b5c2",
   "metadata": {},
   "outputs": [
    {
     "data": {
      "text/plain": [
       "12500"
      ]
     },
     "execution_count": 413,
     "metadata": {},
     "output_type": "execute_result"
    }
   ],
   "source": [
    "len(exceed_list_gd)"
   ]
  },
  {
   "cell_type": "code",
   "execution_count": 414,
   "id": "04e14b52",
   "metadata": {},
   "outputs": [
    {
     "data": {
      "text/plain": [
       "0.1343"
      ]
     },
     "execution_count": 414,
     "metadata": {},
     "output_type": "execute_result"
    }
   ],
   "source": [
    "Thresh"
   ]
  },
  {
   "cell_type": "code",
   "execution_count": 415,
   "id": "e97410a4",
   "metadata": {},
   "outputs": [
    {
     "data": {
      "text/plain": [
       "3"
      ]
     },
     "execution_count": 415,
     "metadata": {},
     "output_type": "execute_result"
    }
   ],
   "source": [
    "count_thresh"
   ]
  },
  {
   "cell_type": "code",
   "execution_count": 424,
   "id": "2a3f8d28",
   "metadata": {},
   "outputs": [],
   "source": [
    "# This function takes two lists of Batch MSE and Exceed Counts along with Batch and Count Thresholds of Layer 2 AE\n",
    "# If a bathc exceeds booth thresholds , warning is generated and for 3 consectutive batches drift is confirmed.\n",
    "def detect_drift2(batch_mse,exceed_list, Thresh,count_thresh):\n",
    "    n=0 # total number of batches where MSE exceeds threshold\n",
    "    count=0 ## counts the number of consecutive batches exceding threshold\n",
    "    w_count=0 # Count of elements in Window. Windows contains batch number where batch MSE exceeds\n",
    "              #threshold \n",
    "    w_index_list=[] # Contains indices of batches where batch MSE esceeds threshold \n",
    "    for i in range(0,len(batch_mse)):\n",
    "        #print (batch_mse)\n",
    "        if((((batch_mse[i])>Thresh)) and (exceed_list[i]>count_thresh)):\n",
    "            print(' Threshold exceeds at batch : {}'.format(i))\n",
    "            n=n+1\n",
    "            #print('Cumulative Batch Count Exceeding Threshold : {}'.format(n))\n",
    "            if(len(w_index_list)==0 or (i-w_index_list[-1]==1)):\n",
    "                # Check if w_index_list is empty or its last entry is the previous batch\n",
    "                    w_index_list.append(i)# then append this batch to w_index_list\n",
    "            count+=1\n",
    "            #if (i!= w_index_list[-1]\n",
    "            #print (\"Batch %d MSE exceeds Threshold\" %i)\n",
    "            print(w_index_list)\n",
    "            if (count>2):# if for more than 3 consecutive batches , batch MSE esceeds threshold , then \n",
    "                         # confirm drift\n",
    "                drift_batch=i-2 # at the first batch i this window\n",
    "\n",
    "                print( \" Drift Confirmed at Batch No : % d\" %drift_batch)\n",
    "            if (len(w_index_list)>=1 and len(w_index_list)<=2):\n",
    "                w_level=i-len(w_index_list)\n",
    "                print(\"Warning Level at Batch\",i)\n",
    "        \n",
    "        if(batch_mse[i])<Thresh:\n",
    "            count=0 # reset count \n",
    "            #if len(w_index_list)>=2:\n",
    "               # w_level=i-len(w_index_list)\n",
    "                #print(\"Warning Level at Batch\",w_level)\n",
    "            if len(w_index_list)<=3:\n",
    "                w_index_list=[]\n",
    "        \n",
    "   "
   ]
  },
  {
   "cell_type": "code",
   "execution_count": 417,
   "id": "2337af52",
   "metadata": {},
   "outputs": [],
   "source": [
    "batch_mse=batch_avg_mse_gd.copy()"
   ]
  },
  {
   "cell_type": "code",
   "execution_count": 418,
   "id": "cfe03c8d",
   "metadata": {},
   "outputs": [],
   "source": [
    "exceed_list=exceed_list_gd.copy()"
   ]
  },
  {
   "cell_type": "code",
   "execution_count": 494,
   "id": "83e43929",
   "metadata": {},
   "outputs": [],
   "source": [
    "d=batch_mse[0:4000]\n",
    "e=exceed_list[0:4000]"
   ]
  },
  {
   "cell_type": "markdown",
   "id": "9bb30058",
   "metadata": {},
   "source": [
    "detect_drift4(batch_mse,exceed_list, Thresh,count_thresh)"
   ]
  },
  {
   "cell_type": "code",
   "execution_count": 492,
   "id": "057b4d6d",
   "metadata": {},
   "outputs": [],
   "source": [
    "# Limiting the output to first 4100 batches"
   ]
  },
  {
   "cell_type": "code",
   "execution_count": 495,
   "id": "ba34444d",
   "metadata": {},
   "outputs": [
    {
     "name": "stdout",
     "output_type": "stream",
     "text": [
      " Threshold exceeds at batch : 3296\n",
      "[3296]\n",
      "Warning Level at Batch 3296\n",
      " Threshold exceeds at batch : 3358\n",
      "[3358]\n",
      "Warning Level at Batch 3358\n",
      " Threshold exceeds at batch : 3365\n",
      "[3365]\n",
      "Warning Level at Batch 3365\n",
      " Threshold exceeds at batch : 3384\n",
      "[3384]\n",
      "Warning Level at Batch 3384\n",
      " Threshold exceeds at batch : 3397\n",
      "[3397]\n",
      "Warning Level at Batch 3397\n",
      " Threshold exceeds at batch : 3413\n",
      "[3413]\n",
      "Warning Level at Batch 3413\n",
      " Threshold exceeds at batch : 3416\n",
      "[3416]\n",
      "Warning Level at Batch 3416\n",
      " Threshold exceeds at batch : 3449\n",
      "[3449]\n",
      "Warning Level at Batch 3449\n",
      " Threshold exceeds at batch : 3451\n",
      "[3451]\n",
      "Warning Level at Batch 3451\n",
      " Threshold exceeds at batch : 3458\n",
      "[3458]\n",
      "Warning Level at Batch 3458\n",
      " Threshold exceeds at batch : 3477\n",
      "[3477]\n",
      "Warning Level at Batch 3477\n",
      " Threshold exceeds at batch : 3482\n",
      "[3482]\n",
      "Warning Level at Batch 3482\n",
      " Threshold exceeds at batch : 3483\n",
      "[3482, 3483]\n",
      "Warning Level at Batch 3483\n",
      " Threshold exceeds at batch : 3517\n",
      "[3517]\n",
      "Warning Level at Batch 3517\n",
      " Threshold exceeds at batch : 3524\n",
      "[3524]\n",
      "Warning Level at Batch 3524\n",
      " Threshold exceeds at batch : 3541\n",
      "[3541]\n",
      "Warning Level at Batch 3541\n",
      " Threshold exceeds at batch : 3570\n",
      "[3570]\n",
      "Warning Level at Batch 3570\n",
      " Threshold exceeds at batch : 3591\n",
      "[3591]\n",
      "Warning Level at Batch 3591\n",
      " Threshold exceeds at batch : 3596\n",
      "[3596]\n",
      "Warning Level at Batch 3596\n",
      " Threshold exceeds at batch : 3612\n",
      "[3612]\n",
      "Warning Level at Batch 3612\n",
      " Threshold exceeds at batch : 3619\n",
      "[3619]\n",
      "Warning Level at Batch 3619\n",
      " Threshold exceeds at batch : 3620\n",
      "[3619, 3620]\n",
      "Warning Level at Batch 3620\n",
      " Threshold exceeds at batch : 3622\n",
      "[3622]\n",
      "Warning Level at Batch 3622\n",
      " Threshold exceeds at batch : 3650\n",
      "[3650]\n",
      "Warning Level at Batch 3650\n",
      " Threshold exceeds at batch : 3660\n",
      "[3660]\n",
      "Warning Level at Batch 3660\n",
      " Threshold exceeds at batch : 3665\n",
      "[3665]\n",
      "Warning Level at Batch 3665\n",
      " Threshold exceeds at batch : 3667\n",
      "[3667]\n",
      "Warning Level at Batch 3667\n",
      " Threshold exceeds at batch : 3670\n",
      "[3670]\n",
      "Warning Level at Batch 3670\n",
      " Threshold exceeds at batch : 3678\n",
      "[3678]\n",
      "Warning Level at Batch 3678\n",
      " Threshold exceeds at batch : 3682\n",
      "[3682]\n",
      "Warning Level at Batch 3682\n",
      " Threshold exceeds at batch : 3687\n",
      "[3687]\n",
      "Warning Level at Batch 3687\n",
      " Threshold exceeds at batch : 3689\n",
      "[3689]\n",
      "Warning Level at Batch 3689\n",
      " Threshold exceeds at batch : 3701\n",
      "[3701]\n",
      "Warning Level at Batch 3701\n",
      " Threshold exceeds at batch : 3702\n",
      "[3701, 3702]\n",
      "Warning Level at Batch 3702\n",
      " Threshold exceeds at batch : 3709\n",
      "[3709]\n",
      "Warning Level at Batch 3709\n",
      " Threshold exceeds at batch : 3713\n",
      "[3713]\n",
      "Warning Level at Batch 3713\n",
      " Threshold exceeds at batch : 3717\n",
      "[3717]\n",
      "Warning Level at Batch 3717\n",
      " Threshold exceeds at batch : 3727\n",
      "[3727]\n",
      "Warning Level at Batch 3727\n",
      " Threshold exceeds at batch : 3729\n",
      "[3729]\n",
      "Warning Level at Batch 3729\n",
      " Threshold exceeds at batch : 3736\n",
      "[3736]\n",
      "Warning Level at Batch 3736\n",
      " Threshold exceeds at batch : 3744\n",
      "[3744]\n",
      "Warning Level at Batch 3744\n",
      " Threshold exceeds at batch : 3747\n",
      "[3747]\n",
      "Warning Level at Batch 3747\n",
      " Threshold exceeds at batch : 3748\n",
      "[3747, 3748]\n",
      "Warning Level at Batch 3748\n",
      " Threshold exceeds at batch : 3750\n",
      "[3750]\n",
      "Warning Level at Batch 3750\n",
      " Threshold exceeds at batch : 3751\n",
      "[3750, 3751]\n",
      "Warning Level at Batch 3751\n",
      " Threshold exceeds at batch : 3755\n",
      "[3755]\n",
      "Warning Level at Batch 3755\n",
      " Threshold exceeds at batch : 3757\n",
      "[3757]\n",
      "Warning Level at Batch 3757\n",
      " Threshold exceeds at batch : 3774\n",
      "[3774]\n",
      "Warning Level at Batch 3774\n",
      " Threshold exceeds at batch : 3780\n",
      "[3780]\n",
      "Warning Level at Batch 3780\n",
      " Threshold exceeds at batch : 3782\n",
      "[3782]\n",
      "Warning Level at Batch 3782\n",
      " Threshold exceeds at batch : 3788\n",
      "[3788]\n",
      "Warning Level at Batch 3788\n",
      " Threshold exceeds at batch : 3791\n",
      "[3791]\n",
      "Warning Level at Batch 3791\n",
      " Threshold exceeds at batch : 3796\n",
      "[3796]\n",
      "Warning Level at Batch 3796\n",
      " Threshold exceeds at batch : 3798\n",
      "[3798]\n",
      "Warning Level at Batch 3798\n",
      " Threshold exceeds at batch : 3801\n",
      "[3801]\n",
      "Warning Level at Batch 3801\n",
      " Threshold exceeds at batch : 3802\n",
      "[3801, 3802]\n",
      "Warning Level at Batch 3802\n",
      " Threshold exceeds at batch : 3808\n",
      "[3808]\n",
      "Warning Level at Batch 3808\n",
      " Threshold exceeds at batch : 3812\n",
      "[3812]\n",
      "Warning Level at Batch 3812\n",
      " Threshold exceeds at batch : 3813\n",
      "[3812, 3813]\n",
      "Warning Level at Batch 3813\n",
      " Threshold exceeds at batch : 3818\n",
      "[3818]\n",
      "Warning Level at Batch 3818\n",
      " Threshold exceeds at batch : 3820\n",
      "[3820]\n",
      "Warning Level at Batch 3820\n",
      " Threshold exceeds at batch : 3823\n",
      "[3823]\n",
      "Warning Level at Batch 3823\n",
      " Threshold exceeds at batch : 3824\n",
      "[3823, 3824]\n",
      "Warning Level at Batch 3824\n",
      " Threshold exceeds at batch : 3827\n",
      "[3827]\n",
      "Warning Level at Batch 3827\n",
      " Threshold exceeds at batch : 3829\n",
      "[3829]\n",
      "Warning Level at Batch 3829\n",
      " Threshold exceeds at batch : 3837\n",
      "[3837]\n",
      "Warning Level at Batch 3837\n",
      " Threshold exceeds at batch : 3844\n",
      "[3844]\n",
      "Warning Level at Batch 3844\n",
      " Threshold exceeds at batch : 3849\n",
      "[3849]\n",
      "Warning Level at Batch 3849\n",
      " Threshold exceeds at batch : 3850\n",
      "[3849, 3850]\n",
      "Warning Level at Batch 3850\n",
      " Threshold exceeds at batch : 3853\n",
      "[3853]\n",
      "Warning Level at Batch 3853\n",
      " Threshold exceeds at batch : 3866\n",
      "[3866]\n",
      "Warning Level at Batch 3866\n",
      " Threshold exceeds at batch : 3871\n",
      "[3871]\n",
      "Warning Level at Batch 3871\n",
      " Threshold exceeds at batch : 3872\n",
      "[3871, 3872]\n",
      "Warning Level at Batch 3872\n",
      " Threshold exceeds at batch : 3875\n",
      "[3875]\n",
      "Warning Level at Batch 3875\n",
      " Threshold exceeds at batch : 3881\n",
      "[3881]\n",
      "Warning Level at Batch 3881\n",
      " Threshold exceeds at batch : 3882\n",
      "[3881, 3882]\n",
      "Warning Level at Batch 3882\n",
      " Threshold exceeds at batch : 3884\n",
      "[3884]\n",
      "Warning Level at Batch 3884\n",
      " Threshold exceeds at batch : 3897\n",
      "[3897]\n",
      "Warning Level at Batch 3897\n",
      " Threshold exceeds at batch : 3900\n",
      "[3900]\n",
      "Warning Level at Batch 3900\n",
      " Threshold exceeds at batch : 3901\n",
      "[3900, 3901]\n",
      "Warning Level at Batch 3901\n",
      " Threshold exceeds at batch : 3905\n",
      "[3905]\n",
      "Warning Level at Batch 3905\n",
      " Threshold exceeds at batch : 3906\n",
      "[3905, 3906]\n",
      "Warning Level at Batch 3906\n",
      " Threshold exceeds at batch : 3907\n",
      "[3905, 3906, 3907]\n",
      " Drift Confirmed at Batch No :  3905\n",
      " Threshold exceeds at batch : 3910\n",
      "[3910]\n",
      "Warning Level at Batch 3910\n",
      " Threshold exceeds at batch : 3912\n",
      "[3912]\n",
      "Warning Level at Batch 3912\n",
      " Threshold exceeds at batch : 3913\n",
      "[3912, 3913]\n",
      "Warning Level at Batch 3913\n",
      " Threshold exceeds at batch : 3917\n",
      "[3917]\n",
      "Warning Level at Batch 3917\n",
      " Threshold exceeds at batch : 3918\n",
      "[3917, 3918]\n",
      "Warning Level at Batch 3918\n",
      " Threshold exceeds at batch : 3924\n",
      "[3924]\n",
      "Warning Level at Batch 3924\n",
      " Threshold exceeds at batch : 3925\n",
      "[3924, 3925]\n",
      "Warning Level at Batch 3925\n",
      " Threshold exceeds at batch : 3926\n",
      "[3924, 3925, 3926]\n",
      " Drift Confirmed at Batch No :  3924\n",
      " Threshold exceeds at batch : 3928\n",
      "[3928]\n",
      "Warning Level at Batch 3928\n",
      " Threshold exceeds at batch : 3929\n",
      "[3928, 3929]\n",
      "Warning Level at Batch 3929\n",
      " Threshold exceeds at batch : 3932\n",
      "[3932]\n",
      "Warning Level at Batch 3932\n",
      " Threshold exceeds at batch : 3935\n",
      "[3935]\n",
      "Warning Level at Batch 3935\n",
      " Threshold exceeds at batch : 3936\n",
      "[3935, 3936]\n",
      "Warning Level at Batch 3936\n",
      " Threshold exceeds at batch : 3938\n",
      "[3938]\n",
      "Warning Level at Batch 3938\n",
      " Threshold exceeds at batch : 3939\n",
      "[3938, 3939]\n",
      "Warning Level at Batch 3939\n",
      " Threshold exceeds at batch : 3941\n",
      "[3941]\n",
      "Warning Level at Batch 3941\n",
      " Threshold exceeds at batch : 3943\n",
      "[3943]\n",
      "Warning Level at Batch 3943\n",
      " Threshold exceeds at batch : 3944\n",
      "[3943, 3944]\n",
      "Warning Level at Batch 3944\n",
      " Threshold exceeds at batch : 3945\n",
      "[3943, 3944, 3945]\n",
      " Drift Confirmed at Batch No :  3943\n",
      " Threshold exceeds at batch : 3947\n",
      "[3947]\n",
      "Warning Level at Batch 3947\n",
      " Threshold exceeds at batch : 3949\n",
      "[3949]\n",
      "Warning Level at Batch 3949\n",
      " Threshold exceeds at batch : 3951\n",
      "[3951]\n",
      "Warning Level at Batch 3951\n",
      " Threshold exceeds at batch : 3953\n",
      "[3953]\n",
      "Warning Level at Batch 3953\n",
      " Threshold exceeds at batch : 3954\n",
      "[3953, 3954]\n",
      "Warning Level at Batch 3954\n",
      " Threshold exceeds at batch : 3956\n",
      "[3956]\n",
      "Warning Level at Batch 3956\n",
      " Threshold exceeds at batch : 3957\n",
      "[3956, 3957]\n",
      "Warning Level at Batch 3957\n",
      " Threshold exceeds at batch : 3963\n",
      "[3963]\n",
      "Warning Level at Batch 3963\n",
      " Threshold exceeds at batch : 3964\n",
      "[3963, 3964]\n",
      "Warning Level at Batch 3964\n",
      " Threshold exceeds at batch : 3968\n",
      "[3968]\n",
      "Warning Level at Batch 3968\n",
      " Threshold exceeds at batch : 3969\n",
      "[3968, 3969]\n",
      "Warning Level at Batch 3969\n",
      " Threshold exceeds at batch : 3970\n",
      "[3968, 3969, 3970]\n",
      " Drift Confirmed at Batch No :  3968\n",
      " Threshold exceeds at batch : 3972\n",
      "[3972]\n",
      "Warning Level at Batch 3972\n",
      " Threshold exceeds at batch : 3975\n",
      "[3975]\n",
      "Warning Level at Batch 3975\n",
      " Threshold exceeds at batch : 3977\n",
      "[3977]\n",
      "Warning Level at Batch 3977\n",
      " Threshold exceeds at batch : 3978\n",
      "[3977, 3978]\n",
      "Warning Level at Batch 3978\n",
      " Threshold exceeds at batch : 3979\n",
      "[3977, 3978, 3979]\n",
      " Drift Confirmed at Batch No :  3977\n",
      " Threshold exceeds at batch : 3986\n",
      "[3986]\n",
      "Warning Level at Batch 3986\n",
      " Threshold exceeds at batch : 3987\n",
      "[3986, 3987]\n",
      "Warning Level at Batch 3987\n",
      " Threshold exceeds at batch : 3988\n",
      "[3986, 3987, 3988]\n",
      " Drift Confirmed at Batch No :  3986\n",
      " Threshold exceeds at batch : 3991\n",
      "[3991]\n",
      "Warning Level at Batch 3991\n",
      " Threshold exceeds at batch : 3992\n",
      "[3991, 3992]\n",
      "Warning Level at Batch 3992\n",
      " Threshold exceeds at batch : 3993\n",
      "[3991, 3992, 3993]\n",
      " Drift Confirmed at Batch No :  3991\n",
      " Threshold exceeds at batch : 3996\n",
      "[3996]\n",
      "Warning Level at Batch 3996\n",
      " Threshold exceeds at batch : 3997\n",
      "[3996, 3997]\n",
      "Warning Level at Batch 3997\n"
     ]
    }
   ],
   "source": [
    "detect_drift4(d,e, Thresh,count_thresh)"
   ]
  },
  {
   "cell_type": "code",
   "execution_count": null,
   "id": "afbeb337",
   "metadata": {},
   "outputs": [],
   "source": []
  }
 ],
 "metadata": {
  "kernelspec": {
   "display_name": "Python 3",
   "language": "python",
   "name": "python3"
  },
  "language_info": {
   "codemirror_mode": {
    "name": "ipython",
    "version": 3
   },
   "file_extension": ".py",
   "mimetype": "text/x-python",
   "name": "python",
   "nbconvert_exporter": "python",
   "pygments_lexer": "ipython3",
   "version": "3.8.8"
  }
 },
 "nbformat": 4,
 "nbformat_minor": 5
}
